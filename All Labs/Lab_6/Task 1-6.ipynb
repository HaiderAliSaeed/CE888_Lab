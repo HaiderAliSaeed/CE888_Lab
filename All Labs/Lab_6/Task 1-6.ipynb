{
  "nbformat": 4,
  "nbformat_minor": 0,
  "metadata": {
    "colab": {
      "name": "Lab_6(1_6_steps).ipynb",
      "provenance": [],
      "include_colab_link": true
    },
    "kernelspec": {
      "name": "python3",
      "display_name": "Python 3"
    },
    "language_info": {
      "name": "python"
    }
  },
  "cells": [
    {
      "cell_type": "markdown",
      "metadata": {
        "id": "view-in-github",
        "colab_type": "text"
      },
      "source": [
        "<a href=\"https://colab.research.google.com/github/HaiderAliSaeed/CE888_Lab/blob/main/All%20Labs/Lab_6/Task%201-6.ipynb\" target=\"_parent\"><img src=\"https://colab.research.google.com/assets/colab-badge.svg\" alt=\"Open In Colab\"/></a>"
      ]
    },
    {
      "cell_type": "code",
      "metadata": {
        "id": "N2WKLDUDSsC9",
        "colab": {
          "base_uri": "https://localhost:8080/",
          "height": 258
        },
        "outputId": "6f97a5ed-552f-4403-8045-2e23614d3e6c"
      },
      "source": [
        "import numpy as np\n",
        "import pandas as pd\n",
        "import matplotlib.pyplot as plt\n",
        "import seaborn as sns\n",
        "\n",
        "df = pd.read_csv(\"/content/WindeData.csv\")\n",
        "df.head()"
      ],
      "execution_count": null,
      "outputs": [
        {
          "output_type": "execute_result",
          "data": {
            "text/html": [
              "<div>\n",
              "<style scoped>\n",
              "    .dataframe tbody tr th:only-of-type {\n",
              "        vertical-align: middle;\n",
              "    }\n",
              "\n",
              "    .dataframe tbody tr th {\n",
              "        vertical-align: top;\n",
              "    }\n",
              "\n",
              "    .dataframe thead th {\n",
              "        text-align: right;\n",
              "    }\n",
              "</style>\n",
              "<table border=\"1\" class=\"dataframe\">\n",
              "  <thead>\n",
              "    <tr style=\"text-align: right;\">\n",
              "      <th></th>\n",
              "      <th>Class label</th>\n",
              "      <th>Alcohol</th>\n",
              "      <th>Malic acid</th>\n",
              "      <th>Ash</th>\n",
              "      <th>Alcalinity of ash</th>\n",
              "      <th>Magnesium</th>\n",
              "      <th>Total phenols</th>\n",
              "      <th>Flavanoids</th>\n",
              "      <th>Nonflavanoid phenols</th>\n",
              "      <th>Proanthocyanins</th>\n",
              "      <th>Color intensity</th>\n",
              "      <th>Hue</th>\n",
              "      <th>OD280/OD315 of diluted wines</th>\n",
              "      <th>Proline</th>\n",
              "    </tr>\n",
              "  </thead>\n",
              "  <tbody>\n",
              "    <tr>\n",
              "      <th>0</th>\n",
              "      <td>1</td>\n",
              "      <td>14.23</td>\n",
              "      <td>1.71</td>\n",
              "      <td>2.43</td>\n",
              "      <td>15.6</td>\n",
              "      <td>127</td>\n",
              "      <td>2.80</td>\n",
              "      <td>3.06</td>\n",
              "      <td>0.28</td>\n",
              "      <td>2.29</td>\n",
              "      <td>5.64</td>\n",
              "      <td>1.04</td>\n",
              "      <td>3.92</td>\n",
              "      <td>1065</td>\n",
              "    </tr>\n",
              "    <tr>\n",
              "      <th>1</th>\n",
              "      <td>1</td>\n",
              "      <td>13.20</td>\n",
              "      <td>1.78</td>\n",
              "      <td>2.14</td>\n",
              "      <td>11.2</td>\n",
              "      <td>100</td>\n",
              "      <td>2.65</td>\n",
              "      <td>2.76</td>\n",
              "      <td>0.26</td>\n",
              "      <td>1.28</td>\n",
              "      <td>4.38</td>\n",
              "      <td>1.05</td>\n",
              "      <td>3.40</td>\n",
              "      <td>1050</td>\n",
              "    </tr>\n",
              "    <tr>\n",
              "      <th>2</th>\n",
              "      <td>1</td>\n",
              "      <td>13.16</td>\n",
              "      <td>2.36</td>\n",
              "      <td>2.67</td>\n",
              "      <td>18.6</td>\n",
              "      <td>101</td>\n",
              "      <td>2.80</td>\n",
              "      <td>3.24</td>\n",
              "      <td>0.30</td>\n",
              "      <td>2.81</td>\n",
              "      <td>5.68</td>\n",
              "      <td>1.03</td>\n",
              "      <td>3.17</td>\n",
              "      <td>1185</td>\n",
              "    </tr>\n",
              "    <tr>\n",
              "      <th>3</th>\n",
              "      <td>1</td>\n",
              "      <td>14.37</td>\n",
              "      <td>1.95</td>\n",
              "      <td>2.50</td>\n",
              "      <td>16.8</td>\n",
              "      <td>113</td>\n",
              "      <td>3.85</td>\n",
              "      <td>3.49</td>\n",
              "      <td>0.24</td>\n",
              "      <td>2.18</td>\n",
              "      <td>7.80</td>\n",
              "      <td>0.86</td>\n",
              "      <td>3.45</td>\n",
              "      <td>1480</td>\n",
              "    </tr>\n",
              "    <tr>\n",
              "      <th>4</th>\n",
              "      <td>1</td>\n",
              "      <td>13.24</td>\n",
              "      <td>2.59</td>\n",
              "      <td>2.87</td>\n",
              "      <td>21.0</td>\n",
              "      <td>118</td>\n",
              "      <td>2.80</td>\n",
              "      <td>2.69</td>\n",
              "      <td>0.39</td>\n",
              "      <td>1.82</td>\n",
              "      <td>4.32</td>\n",
              "      <td>1.04</td>\n",
              "      <td>2.93</td>\n",
              "      <td>735</td>\n",
              "    </tr>\n",
              "  </tbody>\n",
              "</table>\n",
              "</div>"
            ],
            "text/plain": [
              "   Class label  Alcohol  ...  OD280/OD315 of diluted wines  Proline\n",
              "0            1    14.23  ...                          3.92     1065\n",
              "1            1    13.20  ...                          3.40     1050\n",
              "2            1    13.16  ...                          3.17     1185\n",
              "3            1    14.37  ...                          3.45     1480\n",
              "4            1    13.24  ...                          2.93      735\n",
              "\n",
              "[5 rows x 14 columns]"
            ]
          },
          "metadata": {
            "tags": []
          },
          "execution_count": 1
        }
      ]
    },
    {
      "cell_type": "code",
      "metadata": {
        "colab": {
          "base_uri": "https://localhost:8080/",
          "height": 351
        },
        "id": "udTIme5XTyYu",
        "outputId": "3bf98b11-23a1-4e51-c05a-c1f26c42a996"
      },
      "source": [
        "df.describe()"
      ],
      "execution_count": null,
      "outputs": [
        {
          "output_type": "execute_result",
          "data": {
            "text/html": [
              "<div>\n",
              "<style scoped>\n",
              "    .dataframe tbody tr th:only-of-type {\n",
              "        vertical-align: middle;\n",
              "    }\n",
              "\n",
              "    .dataframe tbody tr th {\n",
              "        vertical-align: top;\n",
              "    }\n",
              "\n",
              "    .dataframe thead th {\n",
              "        text-align: right;\n",
              "    }\n",
              "</style>\n",
              "<table border=\"1\" class=\"dataframe\">\n",
              "  <thead>\n",
              "    <tr style=\"text-align: right;\">\n",
              "      <th></th>\n",
              "      <th>Class label</th>\n",
              "      <th>Alcohol</th>\n",
              "      <th>Malic acid</th>\n",
              "      <th>Ash</th>\n",
              "      <th>Alcalinity of ash</th>\n",
              "      <th>Magnesium</th>\n",
              "      <th>Total phenols</th>\n",
              "      <th>Flavanoids</th>\n",
              "      <th>Nonflavanoid phenols</th>\n",
              "      <th>Proanthocyanins</th>\n",
              "      <th>Color intensity</th>\n",
              "      <th>Hue</th>\n",
              "      <th>OD280/OD315 of diluted wines</th>\n",
              "      <th>Proline</th>\n",
              "    </tr>\n",
              "  </thead>\n",
              "  <tbody>\n",
              "    <tr>\n",
              "      <th>count</th>\n",
              "      <td>178.000000</td>\n",
              "      <td>178.000000</td>\n",
              "      <td>178.000000</td>\n",
              "      <td>178.000000</td>\n",
              "      <td>178.000000</td>\n",
              "      <td>178.000000</td>\n",
              "      <td>178.000000</td>\n",
              "      <td>178.000000</td>\n",
              "      <td>178.000000</td>\n",
              "      <td>178.000000</td>\n",
              "      <td>178.000000</td>\n",
              "      <td>178.000000</td>\n",
              "      <td>178.000000</td>\n",
              "      <td>178.000000</td>\n",
              "    </tr>\n",
              "    <tr>\n",
              "      <th>mean</th>\n",
              "      <td>1.938202</td>\n",
              "      <td>13.000618</td>\n",
              "      <td>2.336348</td>\n",
              "      <td>2.366517</td>\n",
              "      <td>19.494944</td>\n",
              "      <td>99.741573</td>\n",
              "      <td>2.295112</td>\n",
              "      <td>2.029270</td>\n",
              "      <td>0.361854</td>\n",
              "      <td>1.590899</td>\n",
              "      <td>5.058090</td>\n",
              "      <td>0.957449</td>\n",
              "      <td>2.611685</td>\n",
              "      <td>746.893258</td>\n",
              "    </tr>\n",
              "    <tr>\n",
              "      <th>std</th>\n",
              "      <td>0.775035</td>\n",
              "      <td>0.811827</td>\n",
              "      <td>1.117146</td>\n",
              "      <td>0.274344</td>\n",
              "      <td>3.339564</td>\n",
              "      <td>14.282484</td>\n",
              "      <td>0.625851</td>\n",
              "      <td>0.998859</td>\n",
              "      <td>0.124453</td>\n",
              "      <td>0.572359</td>\n",
              "      <td>2.318286</td>\n",
              "      <td>0.228572</td>\n",
              "      <td>0.709990</td>\n",
              "      <td>314.907474</td>\n",
              "    </tr>\n",
              "    <tr>\n",
              "      <th>min</th>\n",
              "      <td>1.000000</td>\n",
              "      <td>11.030000</td>\n",
              "      <td>0.740000</td>\n",
              "      <td>1.360000</td>\n",
              "      <td>10.600000</td>\n",
              "      <td>70.000000</td>\n",
              "      <td>0.980000</td>\n",
              "      <td>0.340000</td>\n",
              "      <td>0.130000</td>\n",
              "      <td>0.410000</td>\n",
              "      <td>1.280000</td>\n",
              "      <td>0.480000</td>\n",
              "      <td>1.270000</td>\n",
              "      <td>278.000000</td>\n",
              "    </tr>\n",
              "    <tr>\n",
              "      <th>25%</th>\n",
              "      <td>1.000000</td>\n",
              "      <td>12.362500</td>\n",
              "      <td>1.602500</td>\n",
              "      <td>2.210000</td>\n",
              "      <td>17.200000</td>\n",
              "      <td>88.000000</td>\n",
              "      <td>1.742500</td>\n",
              "      <td>1.205000</td>\n",
              "      <td>0.270000</td>\n",
              "      <td>1.250000</td>\n",
              "      <td>3.220000</td>\n",
              "      <td>0.782500</td>\n",
              "      <td>1.937500</td>\n",
              "      <td>500.500000</td>\n",
              "    </tr>\n",
              "    <tr>\n",
              "      <th>50%</th>\n",
              "      <td>2.000000</td>\n",
              "      <td>13.050000</td>\n",
              "      <td>1.865000</td>\n",
              "      <td>2.360000</td>\n",
              "      <td>19.500000</td>\n",
              "      <td>98.000000</td>\n",
              "      <td>2.355000</td>\n",
              "      <td>2.135000</td>\n",
              "      <td>0.340000</td>\n",
              "      <td>1.555000</td>\n",
              "      <td>4.690000</td>\n",
              "      <td>0.965000</td>\n",
              "      <td>2.780000</td>\n",
              "      <td>673.500000</td>\n",
              "    </tr>\n",
              "    <tr>\n",
              "      <th>75%</th>\n",
              "      <td>3.000000</td>\n",
              "      <td>13.677500</td>\n",
              "      <td>3.082500</td>\n",
              "      <td>2.557500</td>\n",
              "      <td>21.500000</td>\n",
              "      <td>107.000000</td>\n",
              "      <td>2.800000</td>\n",
              "      <td>2.875000</td>\n",
              "      <td>0.437500</td>\n",
              "      <td>1.950000</td>\n",
              "      <td>6.200000</td>\n",
              "      <td>1.120000</td>\n",
              "      <td>3.170000</td>\n",
              "      <td>985.000000</td>\n",
              "    </tr>\n",
              "    <tr>\n",
              "      <th>max</th>\n",
              "      <td>3.000000</td>\n",
              "      <td>14.830000</td>\n",
              "      <td>5.800000</td>\n",
              "      <td>3.230000</td>\n",
              "      <td>30.000000</td>\n",
              "      <td>162.000000</td>\n",
              "      <td>3.880000</td>\n",
              "      <td>5.080000</td>\n",
              "      <td>0.660000</td>\n",
              "      <td>3.580000</td>\n",
              "      <td>13.000000</td>\n",
              "      <td>1.710000</td>\n",
              "      <td>4.000000</td>\n",
              "      <td>1680.000000</td>\n",
              "    </tr>\n",
              "  </tbody>\n",
              "</table>\n",
              "</div>"
            ],
            "text/plain": [
              "       Class label     Alcohol  ...  OD280/OD315 of diluted wines      Proline\n",
              "count   178.000000  178.000000  ...                    178.000000   178.000000\n",
              "mean      1.938202   13.000618  ...                      2.611685   746.893258\n",
              "std       0.775035    0.811827  ...                      0.709990   314.907474\n",
              "min       1.000000   11.030000  ...                      1.270000   278.000000\n",
              "25%       1.000000   12.362500  ...                      1.937500   500.500000\n",
              "50%       2.000000   13.050000  ...                      2.780000   673.500000\n",
              "75%       3.000000   13.677500  ...                      3.170000   985.000000\n",
              "max       3.000000   14.830000  ...                      4.000000  1680.000000\n",
              "\n",
              "[8 rows x 14 columns]"
            ]
          },
          "metadata": {
            "tags": []
          },
          "execution_count": 2
        }
      ]
    },
    {
      "cell_type": "code",
      "metadata": {
        "colab": {
          "base_uri": "https://localhost:8080/",
          "height": 610
        },
        "id": "SEDM5tLfT0rt",
        "outputId": "d3767b1f-77b6-467e-9cb5-e10f6bc4f50a"
      },
      "source": [
        "#Task 1: Check the counts of each wine class\n",
        "sns.set()\n",
        "df.hist(figsize=(10,10), color='green')\n",
        "plt.show()"
      ],
      "execution_count": null,
      "outputs": [
        {
          "output_type": "display_data",
          "data": {
            "image/png": "[encoded data removed]",
            "text/plain": [
              "<Figure size 720x720 with 16 Axes>"
            ]
          },
          "metadata": {
            "tags": []
          }
        }
      ]
    },
    {
      "cell_type": "code",
      "metadata": {
        "id": "YINtmF4dUKQO"
      },
      "source": [
        "#Cluster wine data using K Means Algorithm\n"
      ],
      "execution_count": null,
      "outputs": []
    },
    {
      "cell_type": "code",
      "metadata": {
        "colab": {
          "base_uri": "https://localhost:8080/",
          "height": 371
        },
        "id": "xLvoryICU8fc",
        "outputId": "d97964b8-caac-4ca4-daed-868da131f9e4"
      },
      "source": [
        "#Task 3: Scatter plot wine data into 3 classes based on True Labels and plot with legends. Hint: use any two variables\n",
        "import matplotlib.pyplot as plt\n",
        "x = df['Class label'].values\n",
        "y = df['Alcohol'].values\n",
        "z = df['Malic acid'].values\n",
        "fig=plt.figure()\n",
        "ax=fig.add_axes([0,0,1,1])\n",
        "ax.scatter(x, y, color='r')\n",
        "ax.scatter(x, z, color='b')\n",
        "ax.set_xlabel('Class label')\n",
        "ax.set_ylabel('Alcohol + Malic acid')\n",
        "ax.set_title('scatter plot')\n",
        "plt.show()\n"
      ],
      "execution_count": null,
      "outputs": [
        {
          "output_type": "display_data",
          "data": {
            "image/png": "[encoded data removed]",
            "text/plain": [
              "<Figure size 432x288 with 1 Axes>"
            ]
          },
          "metadata": {
            "tags": []
          }
        }
      ]
    },
    {
      "cell_type": "code",
      "metadata": {
        "colab": {
          "base_uri": "https://localhost:8080/",
          "height": 285
        },
        "id": "c7m1J-l2YI4V",
        "outputId": "a54a5040-fbe5-4560-86f5-917cf06710c3"
      },
      "source": [
        "from sklearn.cluster import KMeans\n",
        "inertia=np.empty(3)\n",
        "for i in range(1,3):\n",
        "    kmeans = KMeans(n_clusters=i, random_state=0).fit(df['Class label'].values.reshape(-1,1))\n",
        "    inertia[i] = kmeans.inertia_\n",
        "\n",
        "plt.plot(range(0,3),inertia,'-o')\n",
        "plt.xlabel('Number of cluster')\n",
        "plt.ylabel('Inertia')\n",
        "plt.show()"
      ],
      "execution_count": null,
      "outputs": [
        {
          "output_type": "display_data",
          "data": {
            "image/png": "[encoded data removed]",
            "text/plain": [
              "<Figure size 432x288 with 1 Axes>"
            ]
          },
          "metadata": {
            "tags": []
          }
        }
      ]
    },
    {
      "cell_type": "code",
      "metadata": {
        "colab": {
          "base_uri": "https://localhost:8080/",
          "height": 258
        },
        "id": "lIUzRjAdZROM",
        "outputId": "acf202a9-7158-42e9-b36d-c1010c798229"
      },
      "source": [
        "#Task 4: Use cluster model labels to group data based on predicted classes\n",
        "kmeans1 = KMeans(n_clusters=3, random_state=0)\n",
        "clusters = kmeans1.fit_predict(df['Class label'].values.reshape(-1,1))\n",
        "df[\"cluster\"] = clusters\n",
        "df.tail()\n"
      ],
      "execution_count": null,
      "outputs": [
        {
          "output_type": "execute_result",
          "data": {
            "text/html": [
              "<div>\n",
              "<style scoped>\n",
              "    .dataframe tbody tr th:only-of-type {\n",
              "        vertical-align: middle;\n",
              "    }\n",
              "\n",
              "    .dataframe tbody tr th {\n",
              "        vertical-align: top;\n",
              "    }\n",
              "\n",
              "    .dataframe thead th {\n",
              "        text-align: right;\n",
              "    }\n",
              "</style>\n",
              "<table border=\"1\" class=\"dataframe\">\n",
              "  <thead>\n",
              "    <tr style=\"text-align: right;\">\n",
              "      <th></th>\n",
              "      <th>Class label</th>\n",
              "      <th>Alcohol</th>\n",
              "      <th>Malic acid</th>\n",
              "      <th>Ash</th>\n",
              "      <th>Alcalinity of ash</th>\n",
              "      <th>Magnesium</th>\n",
              "      <th>Total phenols</th>\n",
              "      <th>Flavanoids</th>\n",
              "      <th>Nonflavanoid phenols</th>\n",
              "      <th>Proanthocyanins</th>\n",
              "      <th>Color intensity</th>\n",
              "      <th>Hue</th>\n",
              "      <th>OD280/OD315 of diluted wines</th>\n",
              "      <th>Proline</th>\n",
              "      <th>cluster</th>\n",
              "    </tr>\n",
              "  </thead>\n",
              "  <tbody>\n",
              "    <tr>\n",
              "      <th>173</th>\n",
              "      <td>3</td>\n",
              "      <td>13.71</td>\n",
              "      <td>5.65</td>\n",
              "      <td>2.45</td>\n",
              "      <td>20.5</td>\n",
              "      <td>95</td>\n",
              "      <td>1.68</td>\n",
              "      <td>0.61</td>\n",
              "      <td>0.52</td>\n",
              "      <td>1.06</td>\n",
              "      <td>7.7</td>\n",
              "      <td>0.64</td>\n",
              "      <td>1.74</td>\n",
              "      <td>740</td>\n",
              "      <td>2</td>\n",
              "    </tr>\n",
              "    <tr>\n",
              "      <th>174</th>\n",
              "      <td>3</td>\n",
              "      <td>13.40</td>\n",
              "      <td>3.91</td>\n",
              "      <td>2.48</td>\n",
              "      <td>23.0</td>\n",
              "      <td>102</td>\n",
              "      <td>1.80</td>\n",
              "      <td>0.75</td>\n",
              "      <td>0.43</td>\n",
              "      <td>1.41</td>\n",
              "      <td>7.3</td>\n",
              "      <td>0.70</td>\n",
              "      <td>1.56</td>\n",
              "      <td>750</td>\n",
              "      <td>2</td>\n",
              "    </tr>\n",
              "    <tr>\n",
              "      <th>175</th>\n",
              "      <td>3</td>\n",
              "      <td>13.27</td>\n",
              "      <td>4.28</td>\n",
              "      <td>2.26</td>\n",
              "      <td>20.0</td>\n",
              "      <td>120</td>\n",
              "      <td>1.59</td>\n",
              "      <td>0.69</td>\n",
              "      <td>0.43</td>\n",
              "      <td>1.35</td>\n",
              "      <td>10.2</td>\n",
              "      <td>0.59</td>\n",
              "      <td>1.56</td>\n",
              "      <td>835</td>\n",
              "      <td>2</td>\n",
              "    </tr>\n",
              "    <tr>\n",
              "      <th>176</th>\n",
              "      <td>3</td>\n",
              "      <td>13.17</td>\n",
              "      <td>2.59</td>\n",
              "      <td>2.37</td>\n",
              "      <td>20.0</td>\n",
              "      <td>120</td>\n",
              "      <td>1.65</td>\n",
              "      <td>0.68</td>\n",
              "      <td>0.53</td>\n",
              "      <td>1.46</td>\n",
              "      <td>9.3</td>\n",
              "      <td>0.60</td>\n",
              "      <td>1.62</td>\n",
              "      <td>840</td>\n",
              "      <td>2</td>\n",
              "    </tr>\n",
              "    <tr>\n",
              "      <th>177</th>\n",
              "      <td>3</td>\n",
              "      <td>14.13</td>\n",
              "      <td>4.10</td>\n",
              "      <td>2.74</td>\n",
              "      <td>24.5</td>\n",
              "      <td>96</td>\n",
              "      <td>2.05</td>\n",
              "      <td>0.76</td>\n",
              "      <td>0.56</td>\n",
              "      <td>1.35</td>\n",
              "      <td>9.2</td>\n",
              "      <td>0.61</td>\n",
              "      <td>1.60</td>\n",
              "      <td>560</td>\n",
              "      <td>2</td>\n",
              "    </tr>\n",
              "  </tbody>\n",
              "</table>\n",
              "</div>"
            ],
            "text/plain": [
              "     Class label  Alcohol  ...  Proline  cluster\n",
              "173            3    13.71  ...      740        2\n",
              "174            3    13.40  ...      750        2\n",
              "175            3    13.27  ...      835        2\n",
              "176            3    13.17  ...      840        2\n",
              "177            3    14.13  ...      560        2\n",
              "\n",
              "[5 rows x 15 columns]"
            ]
          },
          "metadata": {
            "tags": []
          },
          "execution_count": 23
        }
      ]
    },
    {
      "cell_type": "code",
      "metadata": {
        "id": "3JR9Z5_ebMFe"
      },
      "source": [
        "#Task 5: Apply PCA with n_components=2 on X_train_std wine data and transform test data accordingly\n",
        "from sklearn.decomposition import PCA\n",
        "scikit_pca = PCA(n_components=2)\n",
        "pca_wine = scikit_pca.fit_transform(df)"
      ],
      "execution_count": null,
      "outputs": []
    },
    {
      "cell_type": "code",
      "metadata": {
        "colab": {
          "base_uri": "https://localhost:8080/",
          "height": 739
        },
        "id": "YhkNdKNwbrQy",
        "outputId": "beb00101-5608-4005-da36-0a3e4af4b685"
      },
      "source": [
        "# Compute the correlation matrix before doing PCA\n",
        "nm=pd.DataFrame(df)\n",
        "pca_corr=nm.corr()\n",
        "print(pca_corr)\n",
        "sns.heatmap(pca_corr, vmax=1, center=0, square=True)\n",
        "plt.savefig('CORR_PCA.png', dpi=300)"
      ],
      "execution_count": null,
      "outputs": [
        {
          "output_type": "stream",
          "text": [
            "                              Class label   Alcohol  ...   Proline   cluster\n",
            "Class label                      1.000000 -0.328222  ... -0.633717  1.000000\n",
            "Alcohol                         -0.328222  1.000000  ...  0.643720 -0.328222\n",
            "Malic acid                       0.437776  0.094397  ... -0.192011  0.437776\n",
            "Ash                             -0.049643  0.211545  ...  0.223626 -0.049643\n",
            "Alcalinity of ash                0.517859 -0.310235  ... -0.440597  0.517859\n",
            "Magnesium                       -0.209179  0.270798  ...  0.393351 -0.209179\n",
            "Total phenols                   -0.719163  0.289101  ...  0.498115 -0.719163\n",
            "Flavanoids                      -0.847498  0.236815  ...  0.494193 -0.847498\n",
            "Nonflavanoid phenols             0.489109 -0.155929  ... -0.311385  0.489109\n",
            "Proanthocyanins                 -0.499130  0.136698  ...  0.330417 -0.499130\n",
            "Color intensity                  0.265668  0.546364  ...  0.316100  0.265668\n",
            "Hue                             -0.617369 -0.071747  ...  0.236183 -0.617369\n",
            "OD280/OD315 of diluted wines    -0.788230  0.072343  ...  0.312761 -0.788230\n",
            "Proline                         -0.633717  0.643720  ...  1.000000 -0.633717\n",
            "cluster                          1.000000 -0.328222  ... -0.633717  1.000000\n",
            "\n",
            "[15 rows x 15 columns]\n"
          ],
          "name": "stdout"
        },
        {
          "output_type": "display_data",
          "data": {
            "image/png": "[encoded data removed]",
            "text/plain": [
              "<Figure size 432x288 with 2 Axes>"
            ]
          },
          "metadata": {
            "tags": []
          }
        }
      ]
    },
    {
      "cell_type": "code",
      "metadata": {
        "colab": {
          "base_uri": "https://localhost:8080/",
          "height": 323
        },
        "id": "2J3vvVdbb6Pi",
        "outputId": "732a94da-a790-4708-b1f2-33a41ec34246"
      },
      "source": [
        "# Compute the correlation matrix after doing PCA\n",
        "nmp=pd.DataFrame(pca_wine)\n",
        "corr_pca=nmp.corr()\n",
        "print(corr_pca)\n",
        "sns.heatmap(corr_pca, vmax=1, center=0, square=True)\n",
        "plt.savefig('PCA_CORR.png', dpi=300)"
      ],
      "execution_count": null,
      "outputs": [
        {
          "output_type": "stream",
          "text": [
            "              0             1\n",
            "0  1.000000e+00 -2.183214e-17\n",
            "1 -2.183214e-17  1.000000e+00\n"
          ],
          "name": "stdout"
        },
        {
          "output_type": "display_data",
          "data": {
            "image/png": "[encoded data removed]",
            "text/plain": [
              "<Figure size 432x288 with 2 Axes>"
            ]
          },
          "metadata": {
            "tags": []
          }
        }
      ]
    },
    {
      "cell_type": "markdown",
      "metadata": {
        "id": "6PO8u3tLc38S"
      },
      "source": [
        "**Task 6: Apply Logistic Regression on training features and predict test** "
      ]
    },
    {
      "cell_type": "code",
      "metadata": {
        "id": "C6pvPrKscM8b"
      },
      "source": [
        "import numpy as np\n",
        "from sklearn.linear_model import LogisticRegression\n",
        "from sklearn.metrics import classification_report, confusion_matrix"
      ],
      "execution_count": null,
      "outputs": []
    },
    {
      "cell_type": "code",
      "metadata": {
        "id": "QNBVaEoFdH4N"
      },
      "source": [
        "model = LogisticRegression(solver='liblinear', random_state=0)\n",
        "df1 =  pd.read_csv('/content/WindeData.csv')\n",
        "\n",
        "x = df1[['Alcohol', 'Malic acid', 'Ash', 'Alcalinity of ash',\n",
        "       'Magnesium', 'Total phenols', 'Flavanoids', 'Nonflavanoid phenols',\n",
        "       'Proanthocyanins', 'Color intensity', 'Hue',\n",
        "       'OD280/OD315 of diluted wines', 'Proline']]\n",
        "y = df1['Class label'].values"
      ],
      "execution_count": null,
      "outputs": []
    },
    {
      "cell_type": "code",
      "metadata": {
        "colab": {
          "base_uri": "https://localhost:8080/"
        },
        "id": "7Y0PDnKsd-js",
        "outputId": "72fd20f6-4196-45ee-c1bd-2f1f7c38f13f"
      },
      "source": [
        "df1.columns"
      ],
      "execution_count": null,
      "outputs": [
        {
          "output_type": "execute_result",
          "data": {
            "text/plain": [
              "Index(['Class label', 'Alcohol', 'Malic acid', 'Ash', 'Alcalinity of ash',\n",
              "       'Magnesium', 'Total phenols', 'Flavanoids', 'Nonflavanoid phenols',\n",
              "       'Proanthocyanins', 'Color intensity', 'Hue',\n",
              "       'OD280/OD315 of diluted wines', 'Proline'],\n",
              "      dtype='object')"
            ]
          },
          "metadata": {
            "tags": []
          },
          "execution_count": 38
        }
      ]
    },
    {
      "cell_type": "code",
      "metadata": {
        "colab": {
          "base_uri": "https://localhost:8080/"
        },
        "id": "BvesRMp6dLHS",
        "outputId": "fc00abfa-ade6-4c8a-febe-47de5d776dab"
      },
      "source": [
        "model.fit(x, y)"
      ],
      "execution_count": null,
      "outputs": [
        {
          "output_type": "execute_result",
          "data": {
            "text/plain": [
              "LogisticRegression(C=1.0, class_weight=None, dual=False, fit_intercept=True,\n",
              "                   intercept_scaling=1, l1_ratio=None, max_iter=100,\n",
              "                   multi_class='auto', n_jobs=None, penalty='l2',\n",
              "                   random_state=0, solver='liblinear', tol=0.0001, verbose=0,\n",
              "                   warm_start=False)"
            ]
          },
          "metadata": {
            "tags": []
          },
          "execution_count": 39
        }
      ]
    },
    {
      "cell_type": "code",
      "metadata": {
        "id": "y--G2Oy5eTXT"
      },
      "source": [
        "model = LogisticRegression(solver='liblinear', random_state=0).fit(x, y)"
      ],
      "execution_count": null,
      "outputs": []
    },
    {
      "cell_type": "code",
      "metadata": {
        "colab": {
          "base_uri": "https://localhost:8080/"
        },
        "id": "_lm03ojTeVpF",
        "outputId": "de9448db-9663-4052-f18c-9ffa8591ae5d"
      },
      "source": [
        "model.classes_"
      ],
      "execution_count": null,
      "outputs": [
        {
          "output_type": "execute_result",
          "data": {
            "text/plain": [
              "array([1, 2, 3])"
            ]
          },
          "metadata": {
            "tags": []
          },
          "execution_count": 41
        }
      ]
    },
    {
      "cell_type": "code",
      "metadata": {
        "colab": {
          "base_uri": "https://localhost:8080/"
        },
        "id": "xW8HtpB7eY80",
        "outputId": "c6063870-a570-47d2-afd7-b4188f60f923"
      },
      "source": [
        "model.intercept_"
      ],
      "execution_count": null,
      "outputs": [
        {
          "output_type": "execute_result",
          "data": {
            "text/plain": [
              "array([-0.33467517,  0.44794933, -0.09311969])"
            ]
          },
          "metadata": {
            "tags": []
          },
          "execution_count": 42
        }
      ]
    },
    {
      "cell_type": "code",
      "metadata": {
        "colab": {
          "base_uri": "https://localhost:8080/"
        },
        "id": "95JJWxZBea4r",
        "outputId": "89dc7ef9-f39f-48e5-fa3d-b7a112345c4c"
      },
      "source": [
        "model.coef_"
      ],
      "execution_count": null,
      "outputs": [
        {
          "output_type": "execute_result",
          "data": {
            "text/plain": [
              "array([[-5.31780311e-01,  7.63705463e-01,  1.08649095e+00,\n",
              "        -6.30476727e-01, -2.41694015e-02,  1.16879106e-01,\n",
              "         1.37200938e+00,  9.36909812e-02, -4.44237562e-01,\n",
              "        -1.13546247e-01, -1.68886178e-01,  8.50294179e-01,\n",
              "         1.58989477e-02],\n",
              "       [ 8.97661826e-01, -1.16062972e+00, -8.44310687e-01,\n",
              "         2.53133297e-01,  5.54552611e-03,  2.39606108e-01,\n",
              "         5.81043924e-01,  4.22011512e-01,  6.99972580e-01,\n",
              "        -1.84067341e+00,  9.08296966e-01,  2.00644415e-02,\n",
              "        -1.32198603e-02],\n",
              "       [-3.43764640e-01,  6.48209396e-01,  1.04708773e-01,\n",
              "         1.34060233e-01,  1.88589560e-02, -6.30947483e-01,\n",
              "        -1.92530844e+00, -1.54006229e-01, -7.33899495e-01,\n",
              "         1.08310119e+00, -5.56492156e-01, -1.19217052e+00,\n",
              "         1.20916775e-04]])"
            ]
          },
          "metadata": {
            "tags": []
          },
          "execution_count": 43
        }
      ]
    },
    {
      "cell_type": "code",
      "metadata": {
        "colab": {
          "base_uri": "https://localhost:8080/"
        },
        "id": "2BGJB37jedcK",
        "outputId": "9f91f492-7e39-4466-d15c-b7d68b2f2cf9"
      },
      "source": [
        "model.predict_proba(x)"
      ],
      "execution_count": null,
      "outputs": [
        {
          "output_type": "execute_result",
          "data": {
            "text/plain": [
              "array([[9.95108697e-01, 4.35738791e-03, 5.33914616e-04],\n",
              "       [9.96674076e-01, 2.82614382e-03, 4.99780309e-04],\n",
              "       [9.98258886e-01, 3.56287277e-04, 1.38482690e-03],\n",
              "       [9.97202910e-01, 4.36312316e-07, 2.79665375e-03],\n",
              "       [2.58747785e-01, 7.33275408e-01, 7.97680706e-03],\n",
              "       [9.97557813e-01, 2.88205094e-06, 2.43930468e-03],\n",
              "       [9.98650570e-01, 1.52239842e-04, 1.19719025e-03],\n",
              "       [9.94847375e-01, 1.50395417e-04, 5.00222916e-03],\n",
              "       [9.86576861e-01, 1.28408321e-02, 5.82306519e-04],\n",
              "       [9.97086110e-01, 2.78995810e-04, 2.63489386e-03],\n",
              "       [9.99079361e-01, 1.42557736e-05, 9.06383349e-04],\n",
              "       [9.95053320e-01, 4.82309136e-04, 4.46437076e-03],\n",
              "       [9.96998531e-01, 5.82666780e-05, 2.94320234e-03],\n",
              "       [9.97115299e-01, 2.82352148e-03, 6.11791498e-05],\n",
              "       [9.99314263e-01, 2.43785759e-07, 6.85493695e-04],\n",
              "       [9.71620841e-01, 2.86415140e-06, 2.83762947e-02],\n",
              "       [9.91155393e-01, 1.48524587e-04, 8.69608253e-03],\n",
              "       [9.91566763e-01, 5.97561954e-04, 7.83567495e-03],\n",
              "       [9.92772178e-01, 9.02379989e-09, 7.22781298e-03],\n",
              "       [9.87071686e-01, 1.03971451e-02, 2.53116917e-03],\n",
              "       [8.12755971e-01, 1.86671887e-01, 5.72142065e-04],\n",
              "       [9.51056810e-01, 4.00202176e-02, 8.92297264e-03],\n",
              "       [9.36610280e-01, 6.32541237e-02, 1.35595923e-04],\n",
              "       [9.69029784e-01, 2.99107000e-02, 1.05951598e-03],\n",
              "       [5.24259661e-01, 4.75487564e-01, 2.52774736e-04],\n",
              "       [8.90580874e-02, 9.08078963e-01, 2.86294968e-03],\n",
              "       [9.98422961e-01, 6.15664285e-04, 9.61375088e-04],\n",
              "       [9.94899924e-01, 9.42320669e-04, 4.15775535e-03],\n",
              "       [8.35483045e-01, 1.63963769e-01, 5.53185723e-04],\n",
              "       [9.81811325e-01, 1.72234164e-02, 9.65258165e-04],\n",
              "       [9.96884707e-01, 9.67633968e-04, 2.14765925e-03],\n",
              "       [9.90829161e-01, 1.30167037e-06, 9.16953744e-03],\n",
              "       [8.66594877e-01, 1.32700425e-01, 7.04697961e-04],\n",
              "       [9.92078018e-01, 7.39784338e-04, 7.18219779e-03],\n",
              "       [9.82144359e-01, 1.40134608e-02, 3.84218037e-03],\n",
              "       [9.20896842e-01, 7.75855015e-02, 1.51765696e-03],\n",
              "       [9.57715915e-01, 3.93945452e-02, 2.88953950e-03],\n",
              "       [9.88071470e-01, 6.39772309e-03, 5.53080703e-03],\n",
              "       [9.46898934e-01, 5.20896560e-02, 1.01140959e-03],\n",
              "       [9.80682377e-01, 1.75695151e-02, 1.74810804e-03],\n",
              "       [9.45361466e-01, 5.35668352e-02, 1.07169838e-03],\n",
              "       [9.90100481e-01, 2.76333174e-03, 7.13618755e-03],\n",
              "       [9.98416788e-01, 1.34751510e-03, 2.35697015e-04],\n",
              "       [8.29935251e-01, 1.59036357e-01, 1.10283921e-02],\n",
              "       [9.45787370e-01, 5.33316727e-02, 8.80956897e-04],\n",
              "       [9.81761259e-01, 3.34445050e-04, 1.79042961e-02],\n",
              "       [9.96793426e-01, 2.62619754e-03, 5.80376078e-04],\n",
              "       [9.94191201e-01, 5.16416700e-03, 6.44632429e-04],\n",
              "       [9.91712867e-01, 2.11156876e-03, 6.17556412e-03],\n",
              "       [9.80393901e-01, 1.23950869e-06, 1.96048592e-02],\n",
              "       [9.97905307e-01, 2.39281450e-05, 2.07076455e-03],\n",
              "       [9.98750080e-01, 2.77221613e-04, 9.72698250e-04],\n",
              "       [9.99237356e-01, 3.56819482e-05, 7.26961721e-04],\n",
              "       [9.89570706e-01, 8.20105448e-06, 1.04210925e-02],\n",
              "       [9.94069145e-01, 1.35646319e-03, 4.57439199e-03],\n",
              "       [9.90057946e-01, 1.06662529e-03, 8.87542867e-03],\n",
              "       [9.93445184e-01, 4.02647510e-03, 2.52834105e-03],\n",
              "       [9.96419918e-01, 3.45662257e-05, 3.54551578e-03],\n",
              "       [9.98437994e-01, 3.15228104e-05, 1.53048366e-03],\n",
              "       [3.54572812e-02, 9.43400326e-01, 2.11423924e-02],\n",
              "       [6.57178765e-02, 8.13428815e-01, 1.20853308e-01],\n",
              "       [7.89791615e-04, 4.41770065e-01, 5.57440143e-01],\n",
              "       [1.37482229e-02, 9.73406286e-01, 1.28454916e-02],\n",
              "       [3.96058326e-03, 9.95706017e-01, 3.33399522e-04],\n",
              "       [2.50996965e-04, 9.84856260e-01, 1.48927426e-02],\n",
              "       [1.64294566e-01, 8.30718552e-01, 4.98688194e-03],\n",
              "       [8.01833201e-02, 9.19639647e-01, 1.77032843e-04],\n",
              "       [5.57607991e-03, 9.86455209e-01, 7.96871075e-03],\n",
              "       [8.04940813e-02, 8.80327705e-01, 3.91782134e-02],\n",
              "       [2.01810862e-02, 9.72480101e-01, 7.33881233e-03],\n",
              "       [9.99621891e-02, 5.61014177e-01, 3.39023633e-01],\n",
              "       [7.93126655e-05, 9.99649447e-01, 2.71240319e-04],\n",
              "       [7.72817682e-05, 9.79226489e-01, 2.06962289e-02],\n",
              "       [2.16407486e-02, 9.77204925e-01, 1.15432615e-03],\n",
              "       [4.20830038e-01, 5.78031492e-01, 1.13847012e-03],\n",
              "       [3.74412403e-03, 9.33073302e-01, 6.31825738e-02],\n",
              "       [1.03042420e-03, 9.91401664e-01, 7.56791134e-03],\n",
              "       [8.14986587e-03, 9.18339491e-01, 7.35106431e-02],\n",
              "       [1.49530552e-01, 8.45706785e-01, 4.76266307e-03],\n",
              "       [2.63853179e-03, 9.95796679e-01, 1.56478901e-03],\n",
              "       [1.90393964e-04, 9.99461942e-01, 3.47664294e-04],\n",
              "       [2.82373257e-01, 7.16287136e-01, 1.33960733e-03],\n",
              "       [1.48241449e-03, 9.94325394e-01, 4.19219128e-03],\n",
              "       [9.03540304e-04, 4.94488286e-01, 5.04608173e-01],\n",
              "       [1.62237609e-02, 9.83091558e-01, 6.84681374e-04],\n",
              "       [2.47406130e-03, 9.96702894e-01, 8.23044751e-04],\n",
              "       [2.12046330e-04, 9.89356493e-01, 1.04314611e-02],\n",
              "       [3.64253017e-04, 9.90232573e-01, 9.40317392e-03],\n",
              "       [4.03335766e-02, 9.44747578e-01, 1.49188449e-02],\n",
              "       [3.45288884e-03, 9.95255817e-01, 1.29129388e-03],\n",
              "       [3.02683461e-03, 9.87475713e-01, 9.49745282e-03],\n",
              "       [1.36758542e-04, 9.44961676e-01, 5.49015656e-02],\n",
              "       [3.88019798e-04, 9.71785026e-01, 2.78269547e-02],\n",
              "       [1.86366839e-03, 9.97713254e-01, 4.23077990e-04],\n",
              "       [2.65872331e-03, 9.95283290e-01, 2.05798622e-03],\n",
              "       [2.74814276e-01, 7.24288131e-01, 8.97593452e-04],\n",
              "       [1.31928647e-03, 8.46585897e-01, 1.52094816e-01],\n",
              "       [1.43315918e-02, 9.85328261e-01, 3.40147297e-04],\n",
              "       [2.65561557e-01, 7.34349825e-01, 8.86170433e-05],\n",
              "       [1.88382001e-02, 9.81069261e-01, 9.25384096e-05],\n",
              "       [2.87916466e-01, 7.09110595e-01, 2.97293912e-03],\n",
              "       [4.30558106e-03, 9.88664266e-01, 7.03015312e-03],\n",
              "       [2.64401591e-03, 9.94641582e-01, 2.71440248e-03],\n",
              "       [6.02201244e-04, 9.95701829e-01, 3.69597015e-03],\n",
              "       [4.61383118e-02, 9.52377782e-01, 1.48390623e-03],\n",
              "       [1.15852459e-04, 9.93375027e-01, 6.50912059e-03],\n",
              "       [1.00558351e-02, 9.86573301e-01, 3.37086344e-03],\n",
              "       [2.41620677e-04, 9.77449447e-01, 2.23089319e-02],\n",
              "       [1.69967068e-04, 9.99000108e-01, 8.29924448e-04],\n",
              "       [2.08194187e-01, 7.91721168e-01, 8.46447490e-05],\n",
              "       [3.68623158e-02, 9.62209836e-01, 9.27848671e-04],\n",
              "       [3.03253292e-04, 9.98398706e-01, 1.29804092e-03],\n",
              "       [1.06043950e-01, 7.94583933e-01, 9.93721171e-02],\n",
              "       [4.45975128e-04, 9.94761850e-01, 4.79217438e-03],\n",
              "       [3.96962123e-04, 9.98056630e-01, 1.54640800e-03],\n",
              "       [5.86941645e-04, 9.98979287e-01, 4.33771461e-04],\n",
              "       [1.60099764e-03, 9.96760833e-01, 1.63816890e-03],\n",
              "       [4.02205137e-05, 9.98307256e-01, 1.65252308e-03],\n",
              "       [3.54922774e-03, 8.49508525e-01, 1.46942247e-01],\n",
              "       [4.31231570e-02, 9.54818716e-01, 2.05812727e-03],\n",
              "       [2.13926647e-01, 7.85397006e-01, 6.76346420e-04],\n",
              "       [2.64663550e-03, 9.96966025e-01, 3.87339924e-04],\n",
              "       [9.62420709e-05, 9.88742943e-01, 1.11608150e-02],\n",
              "       [7.96593926e-03, 9.88368922e-01, 3.66513881e-03],\n",
              "       [1.66176377e-02, 9.83124444e-01, 2.57918257e-04],\n",
              "       [1.78442128e-03, 9.97568327e-01, 6.47251366e-04],\n",
              "       [5.09276940e-04, 9.98775678e-01, 7.15045534e-04],\n",
              "       [2.51611647e-05, 9.83897830e-01, 1.60770087e-02],\n",
              "       [2.70217198e-05, 9.99189118e-01, 7.83860065e-04],\n",
              "       [3.13407892e-02, 9.17714253e-01, 5.09449579e-02],\n",
              "       [2.60202237e-03, 5.67844734e-01, 4.29553244e-01],\n",
              "       [8.79931236e-04, 8.44210116e-02, 9.14699057e-01],\n",
              "       [5.65204698e-05, 1.28527018e-01, 8.71416462e-01],\n",
              "       [1.52884583e-03, 5.48981820e-02, 9.43572972e-01],\n",
              "       [6.39956332e-03, 7.74456696e-02, 9.16154767e-01],\n",
              "       [1.10287227e-02, 4.94890488e-04, 9.88476387e-01],\n",
              "       [3.16992806e-02, 7.48799640e-03, 9.60812723e-01],\n",
              "       [2.03404311e-04, 2.91510280e-02, 9.70645568e-01],\n",
              "       [1.85483492e-03, 2.04540304e-02, 9.77691135e-01],\n",
              "       [2.19219214e-04, 1.93633510e-01, 8.06147271e-01],\n",
              "       [2.01015790e-03, 1.38790691e-01, 8.59199151e-01],\n",
              "       [3.69815504e-02, 3.75705343e-03, 9.59261396e-01],\n",
              "       [6.68244613e-05, 3.99758373e-01, 6.00174803e-01],\n",
              "       [5.37057955e-03, 1.17416883e-01, 8.77212538e-01],\n",
              "       [2.29377700e-01, 8.73572501e-07, 7.70621427e-01],\n",
              "       [3.21169211e-02, 2.42515412e-02, 9.43631538e-01],\n",
              "       [1.69745146e-04, 9.21481820e-02, 9.07682073e-01],\n",
              "       [5.02133736e-03, 5.78599667e-05, 9.94920803e-01],\n",
              "       [1.20972588e-03, 1.23327229e-04, 9.98666947e-01],\n",
              "       [4.41540569e-04, 3.70877208e-05, 9.99521372e-01],\n",
              "       [2.42807007e-05, 2.08537045e-03, 9.97890349e-01],\n",
              "       [4.99744608e-05, 2.24410550e-05, 9.99927584e-01],\n",
              "       [1.16858476e-06, 2.37331213e-01, 7.62667618e-01],\n",
              "       [6.01042866e-03, 1.40091754e-06, 9.93988170e-01],\n",
              "       [3.64488190e-04, 2.78319252e-03, 9.96852319e-01],\n",
              "       [8.52297794e-03, 1.57182484e-05, 9.91461304e-01],\n",
              "       [4.10472600e-04, 1.73477445e-04, 9.99416050e-01],\n",
              "       [2.30115611e-03, 6.20181307e-05, 9.97636826e-01],\n",
              "       [3.32687280e-05, 3.41529617e-06, 9.99963316e-01],\n",
              "       [1.35113797e-04, 9.03785761e-06, 9.99855848e-01],\n",
              "       [9.16177407e-04, 5.56790351e-04, 9.98527032e-01],\n",
              "       [4.83104862e-03, 7.58483430e-03, 9.87584117e-01],\n",
              "       [5.15222313e-04, 4.18738989e-02, 9.57610879e-01],\n",
              "       [1.83425503e-02, 6.54126759e-03, 9.75116182e-01],\n",
              "       [2.18408640e-04, 5.88439755e-05, 9.99722747e-01],\n",
              "       [1.28260518e-04, 8.78223447e-03, 9.91089505e-01],\n",
              "       [7.85632180e-04, 1.47253865e-06, 9.99212895e-01],\n",
              "       [8.73289217e-03, 7.17485701e-07, 9.91266390e-01],\n",
              "       [4.94206799e-04, 1.38413922e-04, 9.99367379e-01],\n",
              "       [4.72508450e-04, 5.94145856e-05, 9.99468077e-01],\n",
              "       [1.09012239e-03, 2.42898662e-02, 9.74620011e-01],\n",
              "       [1.31724497e-04, 4.63072467e-05, 9.99821968e-01],\n",
              "       [1.26294754e-03, 3.04519971e-05, 9.98706600e-01],\n",
              "       [4.55062580e-02, 7.34412736e-06, 9.54486398e-01],\n",
              "       [3.05800853e-03, 2.21594975e-04, 9.96720396e-01],\n",
              "       [3.56634045e-02, 9.57336659e-08, 9.64336500e-01],\n",
              "       [1.46776291e-02, 3.26696942e-06, 9.85319104e-01],\n",
              "       [6.40669340e-05, 1.44460969e-04, 9.99791472e-01]])"
            ]
          },
          "metadata": {
            "tags": []
          },
          "execution_count": 44
        }
      ]
    },
    {
      "cell_type": "code",
      "metadata": {
        "colab": {
          "base_uri": "https://localhost:8080/"
        },
        "id": "6vWS87wKeibb",
        "outputId": "06b23f7c-1069-491d-8f0d-a8b12a92b635"
      },
      "source": [
        "model.predict(x)"
      ],
      "execution_count": null,
      "outputs": [
        {
          "output_type": "execute_result",
          "data": {
            "text/plain": [
              "array([1, 1, 1, 1, 2, 1, 1, 1, 1, 1, 1, 1, 1, 1, 1, 1, 1, 1, 1, 1, 1, 1,\n",
              "       1, 1, 1, 2, 1, 1, 1, 1, 1, 1, 1, 1, 1, 1, 1, 1, 1, 1, 1, 1, 1, 1,\n",
              "       1, 1, 1, 1, 1, 1, 1, 1, 1, 1, 1, 1, 1, 1, 1, 2, 2, 3, 2, 2, 2, 2,\n",
              "       2, 2, 2, 2, 2, 2, 2, 2, 2, 2, 2, 2, 2, 2, 2, 2, 2, 3, 2, 2, 2, 2,\n",
              "       2, 2, 2, 2, 2, 2, 2, 2, 2, 2, 2, 2, 2, 2, 2, 2, 2, 2, 2, 2, 2, 2,\n",
              "       2, 2, 2, 2, 2, 2, 2, 2, 2, 2, 2, 2, 2, 2, 2, 2, 2, 2, 2, 2, 2, 3,\n",
              "       3, 3, 3, 3, 3, 3, 3, 3, 3, 3, 3, 3, 3, 3, 3, 3, 3, 3, 3, 3, 3, 3,\n",
              "       3, 3, 3, 3, 3, 3, 3, 3, 3, 3, 3, 3, 3, 3, 3, 3, 3, 3, 3, 3, 3, 3,\n",
              "       3, 3])"
            ]
          },
          "metadata": {
            "tags": []
          },
          "execution_count": 45
        }
      ]
    },
    {
      "cell_type": "code",
      "metadata": {
        "colab": {
          "base_uri": "https://localhost:8080/"
        },
        "id": "zcQp4fRDem0y",
        "outputId": "65e82f0b-16e4-4201-8a5a-d6ec7f2c7693"
      },
      "source": [
        "model.score(x, y)"
      ],
      "execution_count": null,
      "outputs": [
        {
          "output_type": "execute_result",
          "data": {
            "text/plain": [
              "0.9719101123595506"
            ]
          },
          "metadata": {
            "tags": []
          },
          "execution_count": 46
        }
      ]
    },
    {
      "cell_type": "code",
      "metadata": {
        "colab": {
          "base_uri": "https://localhost:8080/"
        },
        "id": "HfDnKpZGepty",
        "outputId": "b9ff9a98-1fa6-4b67-f6e8-e6f382793483"
      },
      "source": [
        "confusion_matrix(y, model.predict(x))"
      ],
      "execution_count": null,
      "outputs": [
        {
          "output_type": "execute_result",
          "data": {
            "text/plain": [
              "array([[57,  2,  0],\n",
              "       [ 0, 69,  2],\n",
              "       [ 0,  1, 47]])"
            ]
          },
          "metadata": {
            "tags": []
          },
          "execution_count": 47
        }
      ]
    },
    {
      "cell_type": "code",
      "metadata": {
        "colab": {
          "base_uri": "https://localhost:8080/",
          "height": 348
        },
        "id": "JcOcGfKwes_j",
        "outputId": "79f8585a-2216-4070-bc31-5aba75a5aaa8"
      },
      "source": [
        "cm = confusion_matrix(y, model.predict(x))\n",
        "\n",
        "fig, ax = plt.subplots(figsize=(8, 8))\n",
        "ax.imshow(cm)\n",
        "ax.grid(False)\n",
        "ax.xaxis.set(ticks=(0, 1), ticklabels=('Predicted 0s', 'Predicted 1s'))\n",
        "ax.yaxis.set(ticks=(0, 1), ticklabels=('Actual 0s', 'Actual 1s'))\n",
        "ax.set_ylim(1.5, -0.5)\n",
        "for i in range(2):\n",
        "    for j in range(2):\n",
        "        ax.text(j, i, cm[i, j], ha='center', va='center', color='red')\n",
        "plt.show()"
      ],
      "execution_count": null,
      "outputs": [
        {
          "output_type": "display_data",
          "data": {
            "image/png": "[encoded data removed]",
            "text/plain": [
              "<Figure size 576x576 with 1 Axes>"
            ]
          },
          "metadata": {
            "tags": []
          }
        }
      ]
    },
    {
      "cell_type": "code",
      "metadata": {
        "id": "FV1nPL4ZexLy",
        "colab": {
          "base_uri": "https://localhost:8080/"
        },
        "outputId": "8e7c4ef1-62f4-4930-e456-4d5120011aba"
      },
      "source": [
        "print(classification_report(y, model.predict(x)))"
      ],
      "execution_count": null,
      "outputs": [
        {
          "output_type": "stream",
          "text": [
            "              precision    recall  f1-score   support\n",
            "\n",
            "           1       1.00      0.97      0.98        59\n",
            "           2       0.96      0.97      0.97        71\n",
            "           3       0.96      0.98      0.97        48\n",
            "\n",
            "    accuracy                           0.97       178\n",
            "   macro avg       0.97      0.97      0.97       178\n",
            "weighted avg       0.97      0.97      0.97       178\n",
            "\n"
          ],
          "name": "stdout"
        }
      ]
    }
  ]
}