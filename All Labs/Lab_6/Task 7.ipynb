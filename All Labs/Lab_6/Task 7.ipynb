{
  "nbformat": 4,
  "nbformat_minor": 0,
  "metadata": {
    "colab": {
      "name": "Lab_6_Exercise_to_be_completed (7th step).ipynb",
      "provenance": [],
      "include_colab_link": true
    },
    "kernelspec": {
      "name": "python3",
      "display_name": "Python 3"
    },
    "language_info": {
      "name": "python"
    }
  },
  "cells": [
    {
      "cell_type": "markdown",
      "metadata": {
        "id": "view-in-github",
        "colab_type": "text"
      },
      "source": [
        "<a href=\"https://colab.research.google.com/github/HaiderAliSaeed/CE888_Lab/blob/main/All%20Labs/Lab_6/Task%207.ipynb\" target=\"_parent\"><img src=\"https://colab.research.google.com/assets/colab-badge.svg\" alt=\"Open In Colab\"/></a>"
      ]
    },
    {
      "cell_type": "markdown",
      "metadata": {
        "id": "U7noiK5oj70J"
      },
      "source": [
        "**Task 7: To complete this task, please create a new notebook in Google Colab.**"
      ]
    },
    {
      "cell_type": "code",
      "metadata": {
        "colab": {
          "base_uri": "https://localhost:8080/",
          "height": 204
        },
        "id": "SiCPUy_ikAz3",
        "outputId": "bfb5ea9a-0509-4d93-c99c-32d169fb1b5b"
      },
      "source": [
        "import pandas as pd# Load the fuel-sourced energy dataset\n",
        "\n",
        "data1 = pd.read_csv('/content/Country-data.csv')\n",
        "\n",
        "data1.head()"
      ],
      "execution_count": null,
      "outputs": [
        {
          "output_type": "execute_result",
          "data": {
            "text/html": [
              "<div>\n",
              "<style scoped>\n",
              "    .dataframe tbody tr th:only-of-type {\n",
              "        vertical-align: middle;\n",
              "    }\n",
              "\n",
              "    .dataframe tbody tr th {\n",
              "        vertical-align: top;\n",
              "    }\n",
              "\n",
              "    .dataframe thead th {\n",
              "        text-align: right;\n",
              "    }\n",
              "</style>\n",
              "<table border=\"1\" class=\"dataframe\">\n",
              "  <thead>\n",
              "    <tr style=\"text-align: right;\">\n",
              "      <th></th>\n",
              "      <th>country</th>\n",
              "      <th>child_mort</th>\n",
              "      <th>exports</th>\n",
              "      <th>health</th>\n",
              "      <th>imports</th>\n",
              "      <th>income</th>\n",
              "      <th>inflation</th>\n",
              "      <th>life_expec</th>\n",
              "      <th>total_fer</th>\n",
              "      <th>gdpp</th>\n",
              "    </tr>\n",
              "  </thead>\n",
              "  <tbody>\n",
              "    <tr>\n",
              "      <th>0</th>\n",
              "      <td>Afghanistan</td>\n",
              "      <td>90.2</td>\n",
              "      <td>10.0</td>\n",
              "      <td>7.58</td>\n",
              "      <td>44.9</td>\n",
              "      <td>1610</td>\n",
              "      <td>9.44</td>\n",
              "      <td>56.2</td>\n",
              "      <td>5.82</td>\n",
              "      <td>553</td>\n",
              "    </tr>\n",
              "    <tr>\n",
              "      <th>1</th>\n",
              "      <td>Albania</td>\n",
              "      <td>16.6</td>\n",
              "      <td>28.0</td>\n",
              "      <td>6.55</td>\n",
              "      <td>48.6</td>\n",
              "      <td>9930</td>\n",
              "      <td>4.49</td>\n",
              "      <td>76.3</td>\n",
              "      <td>1.65</td>\n",
              "      <td>4090</td>\n",
              "    </tr>\n",
              "    <tr>\n",
              "      <th>2</th>\n",
              "      <td>Algeria</td>\n",
              "      <td>27.3</td>\n",
              "      <td>38.4</td>\n",
              "      <td>4.17</td>\n",
              "      <td>31.4</td>\n",
              "      <td>12900</td>\n",
              "      <td>16.10</td>\n",
              "      <td>76.5</td>\n",
              "      <td>2.89</td>\n",
              "      <td>4460</td>\n",
              "    </tr>\n",
              "    <tr>\n",
              "      <th>3</th>\n",
              "      <td>Angola</td>\n",
              "      <td>119.0</td>\n",
              "      <td>62.3</td>\n",
              "      <td>2.85</td>\n",
              "      <td>42.9</td>\n",
              "      <td>5900</td>\n",
              "      <td>22.40</td>\n",
              "      <td>60.1</td>\n",
              "      <td>6.16</td>\n",
              "      <td>3530</td>\n",
              "    </tr>\n",
              "    <tr>\n",
              "      <th>4</th>\n",
              "      <td>Antigua and Barbuda</td>\n",
              "      <td>10.3</td>\n",
              "      <td>45.5</td>\n",
              "      <td>6.03</td>\n",
              "      <td>58.9</td>\n",
              "      <td>19100</td>\n",
              "      <td>1.44</td>\n",
              "      <td>76.8</td>\n",
              "      <td>2.13</td>\n",
              "      <td>12200</td>\n",
              "    </tr>\n",
              "  </tbody>\n",
              "</table>\n",
              "</div>"
            ],
            "text/plain": [
              "               country  child_mort  exports  ...  life_expec  total_fer   gdpp\n",
              "0          Afghanistan        90.2     10.0  ...        56.2       5.82    553\n",
              "1              Albania        16.6     28.0  ...        76.3       1.65   4090\n",
              "2              Algeria        27.3     38.4  ...        76.5       2.89   4460\n",
              "3               Angola       119.0     62.3  ...        60.1       6.16   3530\n",
              "4  Antigua and Barbuda        10.3     45.5  ...        76.8       2.13  12200\n",
              "\n",
              "[5 rows x 10 columns]"
            ]
          },
          "metadata": {
            "tags": []
          },
          "execution_count": 1
        }
      ]
    },
    {
      "cell_type": "code",
      "metadata": {
        "colab": {
          "base_uri": "https://localhost:8080/"
        },
        "id": "MPW5Pursr4x7",
        "outputId": "04a220fa-22c6-46c1-8d07-c49e4b361e6a"
      },
      "source": [
        "data1.columns"
      ],
      "execution_count": null,
      "outputs": [
        {
          "output_type": "execute_result",
          "data": {
            "text/plain": [
              "Index(['country', 'child_mort', 'exports', 'health', 'imports', 'income',\n",
              "       'inflation', 'life_expec', 'total_fer', 'gdpp'],\n",
              "      dtype='object')"
            ]
          },
          "metadata": {
            "tags": []
          },
          "execution_count": 2
        }
      ]
    },
    {
      "cell_type": "code",
      "metadata": {
        "colab": {
          "base_uri": "https://localhost:8080/"
        },
        "id": "EMqszlNUrV-G",
        "outputId": "77fbada0-af3a-4aa7-8df9-92a48e214095"
      },
      "source": [
        "from sklearn.preprocessing import MinMaxScaler# Instantiate the object\n",
        "scaler = MinMaxScaler()# Fit and transform the data\n",
        "X_transformed = scaler.fit_transform(data1[['child_mort', 'exports', 'health', 'imports', 'income',\n",
        "       'inflation', 'life_expec', 'total_fer', 'gdpp']].values)\n",
        "X_transformed"
      ],
      "execution_count": null,
      "outputs": [
        {
          "output_type": "execute_result",
          "data": {
            "text/plain": [
              "array([[0.42648491, 0.04948197, 0.35860783, ..., 0.47534517, 0.73659306,\n",
              "        0.00307343],\n",
              "       [0.06815969, 0.13953104, 0.29459291, ..., 0.87179487, 0.07886435,\n",
              "        0.03683341],\n",
              "       [0.12025316, 0.1915594 , 0.14667495, ..., 0.87573964, 0.27444795,\n",
              "        0.04036499],\n",
              "       ...,\n",
              "       [0.10077897, 0.35965101, 0.31261653, ..., 0.8086785 , 0.12618297,\n",
              "        0.01029885],\n",
              "       [0.26144109, 0.1495365 , 0.20944686, ..., 0.69822485, 0.55520505,\n",
              "        0.01029885],\n",
              "       [0.39191821, 0.18455558, 0.25357365, ..., 0.39250493, 0.670347  ,\n",
              "        0.01173057]])"
            ]
          },
          "metadata": {
            "tags": []
          },
          "execution_count": 5
        }
      ]
    },
    {
      "cell_type": "code",
      "metadata": {
        "colab": {
          "base_uri": "https://localhost:8080/",
          "height": 281
        },
        "id": "nA2ztS8YuW-2",
        "outputId": "2b02837f-bec3-4990-f86e-0629d276188b"
      },
      "source": [
        "from sklearn.cluster import KMeans # To make sure our work becomes reproducible\n",
        "import numpy as np\n",
        "import matplotlib.pyplot as plt\n",
        "import seaborn as sns\n",
        "np.random.seed(42)\n",
        "inertia = [] # Iterating the process\n",
        "for i in range(2, 10):\n",
        "  # Instantiate the model\n",
        "    model = KMeans(n_clusters=i)\n",
        "  # Fit The Model\n",
        "    model.fit(X_transformed)\n",
        "  # Extract the error of the model\n",
        "    inertia.append(model.inertia_)# Visualize the model\n",
        "sns.pointplot(x=list(range(2, 10)), y=inertia)\n",
        "plt.title('SSE on K-Means based on # of clusters')\n",
        "plt.show()"
      ],
      "execution_count": null,
      "outputs": [
        {
          "output_type": "display_data",
          "data": {
            "image/png": "[encoded data removed]",
            "text/plain": [
              "<Figure size 432x288 with 1 Axes>"
            ]
          },
          "metadata": {
            "tags": [],
            "needs_background": "light"
          }
        }
      ]
    },
    {
      "cell_type": "code",
      "metadata": {
        "colab": {
          "base_uri": "https://localhost:8080/",
          "height": 204
        },
        "id": "vhGiJk0du69b",
        "outputId": "b00173b5-ab29-4237-c470-0770b5772a1b"
      },
      "source": [
        "np.random.seed(42)# Instantiate the model\n",
        "model = KMeans(n_clusters=3)# Fit the model\n",
        "model.fit(X_transformed)# Predict the cluster from the data and save it\n",
        "cluster = model.predict(X_transformed)# Add to the dataframe and show the result\n",
        "data1['cluster'] = cluster\n",
        "data1.head()"
      ],
      "execution_count": null,
      "outputs": [
        {
          "output_type": "execute_result",
          "data": {
            "text/html": [
              "<div>\n",
              "<style scoped>\n",
              "    .dataframe tbody tr th:only-of-type {\n",
              "        vertical-align: middle;\n",
              "    }\n",
              "\n",
              "    .dataframe tbody tr th {\n",
              "        vertical-align: top;\n",
              "    }\n",
              "\n",
              "    .dataframe thead th {\n",
              "        text-align: right;\n",
              "    }\n",
              "</style>\n",
              "<table border=\"1\" class=\"dataframe\">\n",
              "  <thead>\n",
              "    <tr style=\"text-align: right;\">\n",
              "      <th></th>\n",
              "      <th>country</th>\n",
              "      <th>child_mort</th>\n",
              "      <th>exports</th>\n",
              "      <th>health</th>\n",
              "      <th>imports</th>\n",
              "      <th>income</th>\n",
              "      <th>inflation</th>\n",
              "      <th>life_expec</th>\n",
              "      <th>total_fer</th>\n",
              "      <th>gdpp</th>\n",
              "      <th>cluster</th>\n",
              "    </tr>\n",
              "  </thead>\n",
              "  <tbody>\n",
              "    <tr>\n",
              "      <th>0</th>\n",
              "      <td>Afghanistan</td>\n",
              "      <td>90.2</td>\n",
              "      <td>10.0</td>\n",
              "      <td>7.58</td>\n",
              "      <td>44.9</td>\n",
              "      <td>1610</td>\n",
              "      <td>9.44</td>\n",
              "      <td>56.2</td>\n",
              "      <td>5.82</td>\n",
              "      <td>553</td>\n",
              "      <td>0</td>\n",
              "    </tr>\n",
              "    <tr>\n",
              "      <th>1</th>\n",
              "      <td>Albania</td>\n",
              "      <td>16.6</td>\n",
              "      <td>28.0</td>\n",
              "      <td>6.55</td>\n",
              "      <td>48.6</td>\n",
              "      <td>9930</td>\n",
              "      <td>4.49</td>\n",
              "      <td>76.3</td>\n",
              "      <td>1.65</td>\n",
              "      <td>4090</td>\n",
              "      <td>1</td>\n",
              "    </tr>\n",
              "    <tr>\n",
              "      <th>2</th>\n",
              "      <td>Algeria</td>\n",
              "      <td>27.3</td>\n",
              "      <td>38.4</td>\n",
              "      <td>4.17</td>\n",
              "      <td>31.4</td>\n",
              "      <td>12900</td>\n",
              "      <td>16.10</td>\n",
              "      <td>76.5</td>\n",
              "      <td>2.89</td>\n",
              "      <td>4460</td>\n",
              "      <td>1</td>\n",
              "    </tr>\n",
              "    <tr>\n",
              "      <th>3</th>\n",
              "      <td>Angola</td>\n",
              "      <td>119.0</td>\n",
              "      <td>62.3</td>\n",
              "      <td>2.85</td>\n",
              "      <td>42.9</td>\n",
              "      <td>5900</td>\n",
              "      <td>22.40</td>\n",
              "      <td>60.1</td>\n",
              "      <td>6.16</td>\n",
              "      <td>3530</td>\n",
              "      <td>0</td>\n",
              "    </tr>\n",
              "    <tr>\n",
              "      <th>4</th>\n",
              "      <td>Antigua and Barbuda</td>\n",
              "      <td>10.3</td>\n",
              "      <td>45.5</td>\n",
              "      <td>6.03</td>\n",
              "      <td>58.9</td>\n",
              "      <td>19100</td>\n",
              "      <td>1.44</td>\n",
              "      <td>76.8</td>\n",
              "      <td>2.13</td>\n",
              "      <td>12200</td>\n",
              "      <td>1</td>\n",
              "    </tr>\n",
              "  </tbody>\n",
              "</table>\n",
              "</div>"
            ],
            "text/plain": [
              "               country  child_mort  exports  ...  total_fer   gdpp  cluster\n",
              "0          Afghanistan        90.2     10.0  ...       5.82    553        0\n",
              "1              Albania        16.6     28.0  ...       1.65   4090        1\n",
              "2              Algeria        27.3     38.4  ...       2.89   4460        1\n",
              "3               Angola       119.0     62.3  ...       6.16   3530        0\n",
              "4  Antigua and Barbuda        10.3     45.5  ...       2.13  12200        1\n",
              "\n",
              "[5 rows x 11 columns]"
            ]
          },
          "metadata": {
            "tags": []
          },
          "execution_count": 10
        }
      ]
    },
    {
      "cell_type": "code",
      "metadata": {
        "colab": {
          "base_uri": "https://localhost:8080/"
        },
        "id": "QQs5yIrjvXj6",
        "outputId": "29bb94b2-4182-472f-8e09-633dc398478e"
      },
      "source": [
        "for i in range(3):\n",
        "    print(\"Cluster:\", i)\n",
        "    print(\"The Members:\", ' | '.join(list(data1[data1['cluster'] == i]['country'].values)))\n",
        "    print(\"Total Members:\", len(list(data1[data1['cluster'] == i]['country'].values)))\n",
        "    print()"
      ],
      "execution_count": null,
      "outputs": [
        {
          "output_type": "stream",
          "text": [
            "Cluster: 0\n",
            "The Members: Afghanistan | Angola | Benin | Burkina Faso | Burundi | Cameroon | Central African Republic | Chad | Comoros | Congo, Dem. Rep. | Congo, Rep. | Cote d'Ivoire | Equatorial Guinea | Eritrea | Gabon | Gambia | Ghana | Guinea | Guinea-Bissau | Haiti | Iraq | Kenya | Kiribati | Lao | Lesotho | Liberia | Madagascar | Malawi | Mali | Mauritania | Mozambique | Namibia | Niger | Nigeria | Pakistan | Rwanda | Senegal | Sierra Leone | Solomon Islands | Sudan | Tanzania | Timor-Leste | Togo | Uganda | Yemen | Zambia\n",
            "Total Members: 46\n",
            "\n",
            "Cluster: 1\n",
            "The Members: Albania | Algeria | Antigua and Barbuda | Argentina | Armenia | Azerbaijan | Bahamas | Bahrain | Bangladesh | Barbados | Belarus | Belize | Bhutan | Bolivia | Bosnia and Herzegovina | Botswana | Brazil | Bulgaria | Cambodia | Cape Verde | Chile | China | Colombia | Costa Rica | Croatia | Dominican Republic | Ecuador | Egypt | El Salvador | Estonia | Fiji | Georgia | Grenada | Guatemala | Guyana | Hungary | India | Indonesia | Iran | Jamaica | Jordan | Kazakhstan | Kyrgyz Republic | Latvia | Lebanon | Libya | Lithuania | Macedonia, FYR | Malaysia | Maldives | Mauritius | Micronesia, Fed. Sts. | Moldova | Mongolia | Montenegro | Morocco | Myanmar | Nepal | Oman | Panama | Paraguay | Peru | Philippines | Poland | Romania | Russia | Samoa | Saudi Arabia | Serbia | Seychelles | South Africa | Sri Lanka | St. Vincent and the Grenadines | Suriname | Tajikistan | Thailand | Tonga | Tunisia | Turkey | Turkmenistan | Ukraine | Uruguay | Uzbekistan | Vanuatu | Venezuela | Vietnam\n",
            "Total Members: 86\n",
            "\n",
            "Cluster: 2\n",
            "The Members: Australia | Austria | Belgium | Brunei | Canada | Cyprus | Czech Republic | Denmark | Finland | France | Germany | Greece | Iceland | Ireland | Israel | Italy | Japan | Kuwait | Luxembourg | Malta | Netherlands | New Zealand | Norway | Portugal | Qatar | Singapore | Slovak Republic | Slovenia | South Korea | Spain | Sweden | Switzerland | United Arab Emirates | United Kingdom | United States\n",
            "Total Members: 35\n",
            "\n"
          ],
          "name": "stdout"
        }
      ]
    },
    {
      "cell_type": "code",
      "metadata": {
        "id": "P-G5ar-xvp3s"
      },
      "source": [
        ""
      ],
      "execution_count": null,
      "outputs": []
    }
  ]
}