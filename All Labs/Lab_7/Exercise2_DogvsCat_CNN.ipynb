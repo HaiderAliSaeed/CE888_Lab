{
  "nbformat": 4,
  "nbformat_minor": 0,
  "metadata": {
    "colab": {
      "name": "Exercise2_DogvsCat_CNN.ipynb",
      "provenance": [],
      "toc_visible": true,
      "include_colab_link": true
    },
    "kernelspec": {
      "name": "python3",
      "display_name": "Python 3"
    },
    "accelerator": "GPU"
  },
  "cells": [
    {
      "cell_type": "markdown",
      "metadata": {
        "id": "view-in-github",
        "colab_type": "text"
      },
      "source": [
        "<a href=\"https://colab.research.google.com/github/HaiderAliSaeed/CE888_Lab/blob/main/All%20Labs/Lab_7/Exercise2_DogvsCat_CNN.ipynb\" target=\"_parent\"><img src=\"https://colab.research.google.com/assets/colab-badge.svg\" alt=\"Open In Colab\"/></a>"
      ]
    },
    {
      "cell_type": "markdown",
      "metadata": {
        "id": "qTh9DiKVslsJ"
      },
      "source": [
        "## Dogs vs. Cats \n",
        "\n",
        "In this competition, you'll write an algorithm to classify whether images contain either a dog or a cat.  This is easy for humans, dogs, and cats. Your computer will find it a bit more difficult.\n",
        "\n",
        "![alt text](https://miro.medium.com/max/3000/1*bhFifratH9DjKqMBTeQG5A.gif)\n",
        "\n",
        "Ref: https://medium.com/@thegrigorian/rolling-in-the-deep-cnn-c8d3f7108c8c"
      ]
    },
    {
      "cell_type": "markdown",
      "metadata": {
        "id": "RSBI-_mSSY1g"
      },
      "source": [
        "Get your API Key from Kaggle using following steps:\n",
        "1. Login to [Kaggle](https://www.kaggle.com/) or Register if you don't have account\n",
        "2. Open Dataset (https://www.kaggle.com/c/dogs-vs-cats/rules) and accept terms and condition. \n",
        "3. On the top right corner click on your Icon and go to accounts and press a button \"Create New API Token\". It will download a JSON file containing your username and key. \n",
        "4. Now, paste both below. \n"
      ]
    },
    {
      "cell_type": "code",
      "metadata": {
        "id": "YmXSOc0tZIGA",
        "colab": {
          "base_uri": "https://localhost:8080/"
        },
        "outputId": "0e37e59f-59de-4ac7-cef7-5bfa5c0f9c72"
      },
      "source": [
        "import os\n",
        "os.environ['KAGGLE_USERNAME'] = \"\" # username from the json file\n",
        "os.environ['KAGGLE_KEY'] = \"\" # key from the json file\n",
        "!kaggle competitions download -c dogs-vs-cats # api copied from kaggle (https://www.kaggle.com/c/dogs-vs-cats/data)"
      ],
      "execution_count": null,
      "outputs": [
        {
          "output_type": "stream",
          "text": [
            "Warning: Looks like you're using an outdated API Version, please consider updating (server 1.5.12 / client 1.5.4)\n",
            "Downloading test1.zip to /content\n",
            " 96% 261M/271M [00:01<00:00, 205MB/s]\n",
            "100% 271M/271M [00:01<00:00, 176MB/s]\n",
            "Downloading sampleSubmission.csv to /content\n",
            "  0% 0.00/86.8k [00:00<?, ?B/s]\n",
            "100% 86.8k/86.8k [00:00<00:00, 87.4MB/s]\n",
            "Downloading train.zip to /content\n",
            " 96% 520M/543M [00:02<00:00, 252MB/s]\n",
            "100% 543M/543M [00:02<00:00, 250MB/s]\n"
          ],
          "name": "stdout"
        }
      ]
    },
    {
      "cell_type": "code",
      "metadata": {
        "id": "PiwIL8d1n7eS",
        "colab": {
          "base_uri": "https://localhost:8080/"
        },
        "outputId": "a5cc0399-def8-4b6f-903c-b6beccd29275"
      },
      "source": [
        "# Unzip training data\n",
        "from zipfile import ZipFile\n",
        "file_name = \"/content/train.zip\"\n",
        "with ZipFile(file_name, 'r') as zip:\n",
        "  zip.extractall()\n",
        "  print('done')"
      ],
      "execution_count": null,
      "outputs": [
        {
          "output_type": "stream",
          "text": [
            "done\n"
          ],
          "name": "stdout"
        }
      ]
    },
    {
      "cell_type": "code",
      "metadata": {
        "id": "sa2Bj5i7pPKV",
        "colab": {
          "base_uri": "https://localhost:8080/"
        },
        "outputId": "76096508-49a6-44cb-9150-37e0f8d45362"
      },
      "source": [
        "# Get all the paths\n",
        "data_dir_list = os.listdir('/content/train')\n",
        "#print(data_dir_list)\n",
        "path, dirs, files = next(os.walk(\"/content/train\"))\n",
        "file_count = len(files)\n",
        "print(file_count)"
      ],
      "execution_count": null,
      "outputs": [
        {
          "output_type": "stream",
          "text": [
            "25000\n"
          ],
          "name": "stdout"
        }
      ]
    },
    {
      "cell_type": "code",
      "metadata": {
        "id": "0ERlHkfHqpK8"
      },
      "source": [
        "# Make new base directory\n",
        "original_dataset_dir = '/content/train'\n",
        "base_dir = '/content/cats_and_dogs_small'\n",
        "os.mkdir(base_dir)"
      ],
      "execution_count": null,
      "outputs": []
    },
    {
      "cell_type": "code",
      "metadata": {
        "id": "AANB1UJ6rQhM"
      },
      "source": [
        "train_dir = os.path.join(base_dir, 'train')\n",
        "os.mkdir(train_dir)\n",
        "\n",
        "validation_dir = os.path.join(base_dir, 'validation')\n",
        "os.mkdir(validation_dir)\n",
        "\n",
        "test_dir = os.path.join(base_dir, 'test')\n",
        "os.mkdir(test_dir)\n",
        "\n",
        "train_cats_dir = os.path.join(train_dir, 'cats')\n",
        "os.mkdir(train_cats_dir)\n",
        "\n",
        "train_dogs_dir = os.path.join(train_dir, 'dogs')\n",
        "os.mkdir(train_dogs_dir)\n",
        "\n",
        "validation_cats_dir = os.path.join(validation_dir, 'cats')\n",
        "os.mkdir(validation_cats_dir)\n",
        "\n",
        "validation_dogs_dir = os.path.join(validation_dir, 'dogs')\n",
        "os.mkdir(validation_dogs_dir)\n",
        "\n",
        "test_cats_dir = os.path.join(test_dir, 'cats')\n",
        "os.mkdir(test_cats_dir)\n",
        "\n",
        "test_dogs_dir = os.path.join(test_dir, 'dogs')\n",
        "os.mkdir(test_dogs_dir)"
      ],
      "execution_count": null,
      "outputs": []
    },
    {
      "cell_type": "code",
      "metadata": {
        "id": "ULRgL9s9rV8T"
      },
      "source": [
        "import shutil\n",
        "fnames = ['cat.{}.jpg'.format(i) for i in range(1000)]\n",
        "for fname in fnames:\n",
        "    src = os.path.join(original_dataset_dir, fname)\n",
        "    dst = os.path.join(train_cats_dir, fname)\n",
        "    #print(src,dst)\n",
        "    shutil.copyfile(src, dst)\n",
        "    \n",
        "fnames = ['cat.{}.jpg'.format(i) for i in range(1000, 1500)]\n",
        "for fname in fnames:\n",
        "    src = os.path.join(original_dataset_dir, fname)\n",
        "    dst = os.path.join(validation_cats_dir, fname)\n",
        "    shutil.copyfile(src, dst)\n",
        "\n",
        "fnames = ['cat.{}.jpg'.format(i) for i in range(1500, 2000)]\n",
        "for fname in fnames:\n",
        "    src = os.path.join(original_dataset_dir, fname)\n",
        "    dst = os.path.join(test_cats_dir, fname)\n",
        "    shutil.copyfile(src, dst)\n",
        "    \n",
        "fnames = ['dog.{}.jpg'.format(i) for i in range(1000)]\n",
        "for fname in fnames:\n",
        "    src = os.path.join(original_dataset_dir, fname)\n",
        "    dst = os.path.join(train_dogs_dir, fname)\n",
        "    shutil.copyfile(src, dst)\n",
        "\n",
        "fnames = ['dog.{}.jpg'.format(i) for i in range(1000, 1500)]\n",
        "for fname in fnames:\n",
        "    src = os.path.join(original_dataset_dir, fname)\n",
        "    dst = os.path.join(validation_dogs_dir, fname)\n",
        "    shutil.copyfile(src, dst)\n",
        "\n",
        "fnames = ['dog.{}.jpg'.format(i) for i in range(1500, 2000)]\n",
        "for fname in fnames:\n",
        "    src = os.path.join(original_dataset_dir, fname)\n",
        "    dst = os.path.join(test_dogs_dir, fname)\n",
        "    shutil.copyfile(src, dst)"
      ],
      "execution_count": null,
      "outputs": []
    },
    {
      "cell_type": "code",
      "metadata": {
        "id": "ul3XAbIyr7vC",
        "colab": {
          "base_uri": "https://localhost:8080/"
        },
        "outputId": "d132590b-1711-406f-94c5-8f79dfd22146"
      },
      "source": [
        "print('total training cat images:', len(os.listdir(train_cats_dir)))\n",
        "print('total training dog images:', len(os.listdir(train_dogs_dir)))\n",
        "print('total validation cat images:', len(os.listdir(validation_cats_dir)))\n",
        "\n",
        "print('total validation dog images:', len(os.listdir(validation_dogs_dir)))\n",
        "print('total test cat images:', len(os.listdir(test_cats_dir)))\n",
        "print('total test dog images:', len(os.listdir(test_dogs_dir)))"
      ],
      "execution_count": null,
      "outputs": [
        {
          "output_type": "stream",
          "text": [
            "total training cat images: 1000\n",
            "total training dog images: 1000\n",
            "total validation cat images: 500\n",
            "total validation dog images: 500\n",
            "total test cat images: 500\n",
            "total test dog images: 500\n"
          ],
          "name": "stdout"
        }
      ]
    },
    {
      "cell_type": "code",
      "metadata": {
        "id": "o9yTA21_r-ma",
        "colab": {
          "base_uri": "https://localhost:8080/"
        },
        "outputId": "b96d0a4c-d72f-4829-ac65-332ea7521196"
      },
      "source": [
        "from keras import layers\n",
        "from keras import models\n",
        "\n",
        "model = models.Sequential()\n",
        "model.add(layers.Conv2D(32, (3, 3), activation='relu', input_shape=(150, 150, 3)))\n",
        "model.add(layers.MaxPooling2D((2, 2)))\n",
        "model.add(layers.Conv2D(64, (3, 3), activation='relu'))\n",
        "model.add(layers.MaxPooling2D((2, 2)))\n",
        "model.add(layers.Conv2D(128, (3, 3), activation='relu'))\n",
        "model.add(layers.MaxPooling2D((2, 2)))\n",
        "model.add(layers.Conv2D(128, (3, 3), activation='relu'))\n",
        "model.add(layers.MaxPooling2D((2, 2)))\n",
        "model.add(layers.Flatten())\n",
        "model.add(layers.Dense(512, activation='relu'))\n",
        "model.add(layers.Dense(1, activation='sigmoid'))\n",
        "model.summary()"
      ],
      "execution_count": null,
      "outputs": [
        {
          "output_type": "stream",
          "text": [
            "Model: \"sequential\"\n",
            "_________________________________________________________________\n",
            "Layer (type)                 Output Shape              Param #   \n",
            "=================================================================\n",
            "conv2d (Conv2D)              (None, 148, 148, 32)      896       \n",
            "_________________________________________________________________\n",
            "max_pooling2d (MaxPooling2D) (None, 74, 74, 32)        0         \n",
            "_________________________________________________________________\n",
            "conv2d_1 (Conv2D)            (None, 72, 72, 64)        18496     \n",
            "_________________________________________________________________\n",
            "max_pooling2d_1 (MaxPooling2 (None, 36, 36, 64)        0         \n",
            "_________________________________________________________________\n",
            "conv2d_2 (Conv2D)            (None, 34, 34, 128)       73856     \n",
            "_________________________________________________________________\n",
            "max_pooling2d_2 (MaxPooling2 (None, 17, 17, 128)       0         \n",
            "_________________________________________________________________\n",
            "conv2d_3 (Conv2D)            (None, 15, 15, 128)       147584    \n",
            "_________________________________________________________________\n",
            "max_pooling2d_3 (MaxPooling2 (None, 7, 7, 128)         0         \n",
            "_________________________________________________________________\n",
            "flatten (Flatten)            (None, 6272)              0         \n",
            "_________________________________________________________________\n",
            "dense (Dense)                (None, 512)               3211776   \n",
            "_________________________________________________________________\n",
            "dense_1 (Dense)              (None, 1)                 513       \n",
            "=================================================================\n",
            "Total params: 3,453,121\n",
            "Trainable params: 3,453,121\n",
            "Non-trainable params: 0\n",
            "_________________________________________________________________\n"
          ],
          "name": "stdout"
        }
      ]
    },
    {
      "cell_type": "code",
      "metadata": {
        "id": "2mG8wekxsBVS"
      },
      "source": [
        "from keras import optimizers\n",
        "model.compile(loss='binary_crossentropy', \n",
        "              optimizer=optimizers.RMSprop(lr=1e-4),\n",
        "              metrics=['acc'])"
      ],
      "execution_count": null,
      "outputs": []
    },
    {
      "cell_type": "markdown",
      "metadata": {
        "id": "7zS4Klm8qWp6"
      },
      "source": [
        "## Using ImageDataGenerator to read images from directories\n",
        "As you know by now, data should be formatted into appropriately preprocessed floatingpoint tensors before being fed into the network. Currently, the data sits on a drive as JPEG files, so the steps for getting it into the network are roughly as follows:\n",
        "\n",
        "* Read the picture files.\n",
        "* Decode the JPEG content to RGB grids of pixels.\n",
        "* Convert these into floating-point tensors.\n",
        "* Rescale the pixel values (between 0 and 255) to the [0, 1] interval (as you know, neural networks prefer to deal with small input values).\n",
        "\n",
        "It may seem a bit daunting, but fortunately Keras has utilities to take care of these steps automatically. Keras has a module with image-processing helper tools, located at keras.preprocessing.image. In particular, it contains the class ImageDataGenerator,which lets you quickly set up Python generators that can automatically turn image files on disk into batches of preprocessed tensors."
      ]
    },
    {
      "cell_type": "code",
      "metadata": {
        "id": "XJ7XU7t9sEh6",
        "colab": {
          "base_uri": "https://localhost:8080/"
        },
        "outputId": "2ef93b91-013b-434c-f600-4250dbedd3c5"
      },
      "source": [
        "from keras.preprocessing.image import ImageDataGenerator\n",
        "\n",
        "train_datagen = ImageDataGenerator(rescale=1./255)\n",
        "test_datagen = ImageDataGenerator(rescale=1./255)\n",
        "\n",
        "train_generator = train_datagen.flow_from_directory(train_dir,\n",
        "                                                    target_size=(150, 150), \n",
        "                                                    batch_size=20,\n",
        "                                                    class_mode='binary')\n",
        "\n",
        "validation_generator = test_datagen.flow_from_directory(validation_dir,\n",
        "                                                        target_size=(150, 150),\n",
        "                                                        batch_size=20,\n",
        "                                                        class_mode='binary')"
      ],
      "execution_count": null,
      "outputs": [
        {
          "output_type": "stream",
          "text": [
            "Found 2000 images belonging to 2 classes.\n",
            "Found 1000 images belonging to 2 classes.\n"
          ],
          "name": "stdout"
        }
      ]
    },
    {
      "cell_type": "markdown",
      "metadata": {
        "id": "SEgLywySqm4u"
      },
      "source": [
        "Let’s fit the model to the data using the generator. You do so using the fit_generator method, the equivalent of fit for data generators like this one. It expects as its first argument a Python generator that will yield batches of inputs and targets indefinitely,like this one does. Because the data is being generated endlessly, the Keras model needs to know how many samples to draw from the generator before declaring anepoch over. This is the role of the `steps_per_epoch` argument: after having drawn `steps_per_epoch` batches from the generator—that is, after having run for `steps_per_epoch` gradient descent steps—the fitting process will go to the next epoch. In this case, batches are 20 samples, so it will take 100 batches until you see your target of 2,000 samples.\n",
        "\n",
        "When using fit_generator, you can pass a validation_data argument, much as with the fit method. It’s important to note that this argument is allowed to be a data generator, but it could also be a tuple of Numpy arrays. If you pass a generator as validation_data, then this generator is expected to yield batches of validation data endlessly; thus you should also specify the validation_steps argument, which tells the process how many batches to draw from the validation generator for evaluation."
      ]
    },
    {
      "cell_type": "code",
      "metadata": {
        "id": "yMyfPphJsJG6",
        "colab": {
          "base_uri": "https://localhost:8080/"
        },
        "outputId": "f5c1badc-6cfd-45e3-d495-0bd6327d86e7"
      },
      "source": [
        "history = model.fit_generator(train_generator,\n",
        "                              steps_per_epoch=100,\n",
        "                              epochs=30,\n",
        "                              validation_data=validation_generator,\n",
        "                              validation_steps=10)"
      ],
      "execution_count": null,
      "outputs": [
        {
          "output_type": "stream",
          "text": [
            "/usr/local/lib/python3.7/dist-packages/tensorflow/python/keras/engine/training.py:1844: UserWarning: `Model.fit_generator` is deprecated and will be removed in a future version. Please use `Model.fit`, which supports generators.\n",
            "  warnings.warn('`Model.fit_generator` is deprecated and '\n"
          ],
          "name": "stderr"
        },
        {
          "output_type": "stream",
          "text": [
            "Epoch 1/30\n",
            "100/100 [==============================] - 40s 70ms/step - loss: 0.6955 - acc: 0.5029 - val_loss: 0.6786 - val_acc: 0.5550\n",
            "Epoch 2/30\n",
            "100/100 [==============================] - 7s 66ms/step - loss: 0.6620 - acc: 0.6074 - val_loss: 0.6517 - val_acc: 0.6000\n",
            "Epoch 3/30\n",
            "100/100 [==============================] - 7s 66ms/step - loss: 0.6035 - acc: 0.6739 - val_loss: 0.5879 - val_acc: 0.6750\n",
            "Epoch 4/30\n",
            "100/100 [==============================] - 7s 69ms/step - loss: 0.5864 - acc: 0.6921 - val_loss: 0.6476 - val_acc: 0.6750\n",
            "Epoch 5/30\n",
            "100/100 [==============================] - 7s 68ms/step - loss: 0.5213 - acc: 0.7443 - val_loss: 0.6244 - val_acc: 0.6500\n",
            "Epoch 6/30\n",
            "100/100 [==============================] - 7s 66ms/step - loss: 0.5057 - acc: 0.7395 - val_loss: 0.6108 - val_acc: 0.6600\n",
            "Epoch 7/30\n",
            "100/100 [==============================] - 7s 67ms/step - loss: 0.4677 - acc: 0.7734 - val_loss: 0.6148 - val_acc: 0.6700\n",
            "Epoch 8/30\n",
            "100/100 [==============================] - 7s 67ms/step - loss: 0.4346 - acc: 0.8070 - val_loss: 0.5349 - val_acc: 0.7350\n",
            "Epoch 9/30\n",
            "100/100 [==============================] - 7s 68ms/step - loss: 0.4171 - acc: 0.8160 - val_loss: 0.5721 - val_acc: 0.7300\n",
            "Epoch 10/30\n",
            "100/100 [==============================] - 7s 66ms/step - loss: 0.3894 - acc: 0.8360 - val_loss: 0.5750 - val_acc: 0.6950\n",
            "Epoch 11/30\n",
            "100/100 [==============================] - 7s 66ms/step - loss: 0.3528 - acc: 0.8525 - val_loss: 0.6432 - val_acc: 0.6950\n",
            "Epoch 12/30\n",
            "100/100 [==============================] - 7s 66ms/step - loss: 0.3464 - acc: 0.8475 - val_loss: 0.6187 - val_acc: 0.7050\n",
            "Epoch 13/30\n",
            "100/100 [==============================] - 7s 67ms/step - loss: 0.3076 - acc: 0.8677 - val_loss: 0.5212 - val_acc: 0.7500\n",
            "Epoch 14/30\n",
            "100/100 [==============================] - 7s 65ms/step - loss: 0.2867 - acc: 0.8927 - val_loss: 0.5704 - val_acc: 0.7100\n",
            "Epoch 15/30\n",
            "100/100 [==============================] - 7s 67ms/step - loss: 0.2437 - acc: 0.9019 - val_loss: 0.6865 - val_acc: 0.7250\n",
            "Epoch 16/30\n",
            "100/100 [==============================] - 7s 69ms/step - loss: 0.2360 - acc: 0.9070 - val_loss: 0.6549 - val_acc: 0.7250\n",
            "Epoch 17/30\n",
            "100/100 [==============================] - 7s 65ms/step - loss: 0.2043 - acc: 0.9155 - val_loss: 0.7407 - val_acc: 0.6650\n",
            "Epoch 18/30\n",
            "100/100 [==============================] - 7s 67ms/step - loss: 0.1966 - acc: 0.9292 - val_loss: 0.7621 - val_acc: 0.7250\n",
            "Epoch 19/30\n",
            "100/100 [==============================] - 7s 67ms/step - loss: 0.1549 - acc: 0.9492 - val_loss: 0.6997 - val_acc: 0.7200\n",
            "Epoch 20/30\n",
            "100/100 [==============================] - 7s 67ms/step - loss: 0.1458 - acc: 0.9541 - val_loss: 0.8189 - val_acc: 0.7400\n",
            "Epoch 21/30\n",
            "100/100 [==============================] - 7s 66ms/step - loss: 0.1171 - acc: 0.9690 - val_loss: 0.9314 - val_acc: 0.7050\n",
            "Epoch 22/30\n",
            "100/100 [==============================] - 7s 66ms/step - loss: 0.1219 - acc: 0.9632 - val_loss: 0.6673 - val_acc: 0.7500\n",
            "Epoch 23/30\n",
            "100/100 [==============================] - 7s 65ms/step - loss: 0.1069 - acc: 0.9679 - val_loss: 0.8479 - val_acc: 0.7300\n",
            "Epoch 24/30\n",
            "100/100 [==============================] - 7s 66ms/step - loss: 0.0891 - acc: 0.9709 - val_loss: 1.1759 - val_acc: 0.6750\n",
            "Epoch 25/30\n",
            "100/100 [==============================] - 7s 66ms/step - loss: 0.0829 - acc: 0.9707 - val_loss: 0.9591 - val_acc: 0.7100\n",
            "Epoch 26/30\n",
            "100/100 [==============================] - 7s 66ms/step - loss: 0.0649 - acc: 0.9853 - val_loss: 0.7931 - val_acc: 0.7250\n",
            "Epoch 27/30\n",
            "100/100 [==============================] - 7s 66ms/step - loss: 0.0529 - acc: 0.9880 - val_loss: 1.1766 - val_acc: 0.7400\n",
            "Epoch 28/30\n",
            "100/100 [==============================] - 7s 66ms/step - loss: 0.0390 - acc: 0.9905 - val_loss: 0.8178 - val_acc: 0.7400\n",
            "Epoch 29/30\n",
            "100/100 [==============================] - 7s 66ms/step - loss: 0.0370 - acc: 0.9907 - val_loss: 1.0524 - val_acc: 0.6950\n",
            "Epoch 30/30\n",
            "100/100 [==============================] - 7s 66ms/step - loss: 0.0303 - acc: 0.9921 - val_loss: 1.2437 - val_acc: 0.7100\n"
          ],
          "name": "stdout"
        }
      ]
    },
    {
      "cell_type": "code",
      "metadata": {
        "id": "TxyiDBEzSdH-"
      },
      "source": [
        ""
      ],
      "execution_count": null,
      "outputs": []
    },
    {
      "cell_type": "code",
      "metadata": {
        "id": "MZaZ2HWZsNUi",
        "colab": {
          "base_uri": "https://localhost:8080/",
          "height": 545
        },
        "outputId": "3f65507f-3d62-4203-d8e2-9c613b57a2da"
      },
      "source": [
        "model.save('cats_and_dogs_small_1.h5')\n",
        "\n",
        "import matplotlib.pyplot as plt\n",
        "\n",
        "acc = history.history['acc']\n",
        "val_acc = history.history['val_acc']\n",
        "loss = history.history['loss']\n",
        "val_loss = history.history['val_loss']\n",
        "\n",
        "epochs = range(1, len(acc) + 1)\n",
        "\n",
        "plt.plot(epochs, acc, 'bo', label='Training acc')\n",
        "plt.plot(epochs, val_acc, 'b', label='Validation acc')\n",
        "plt.title('Training and validation accuracy')\n",
        "plt.legend()\n",
        "\n",
        "plt.figure()\n",
        "\n",
        "plt.plot(epochs, loss, 'bo', label='Training loss')\n",
        "plt.plot(epochs, val_loss, 'b', label='Validation loss')\n",
        "plt.title('Training and validation loss')\n",
        "plt.legend()\n",
        "\n",
        "plt.show()"
      ],
      "execution_count": null,
      "outputs": [
        {
          "output_type": "display_data",
          "data": {
            "image/png": "[encoded data removed]",
            "text/plain": [
              "<Figure size 432x288 with 1 Axes>"
            ]
          },
          "metadata": {
            "tags": [],
            "needs_background": "light"
          }
        },
        {
          "output_type": "display_data",
          "data": {
            "image/png": "[encoded data removed]",
            "text/plain": [
              "<Figure size 432x288 with 1 Axes>"
            ]
          },
          "metadata": {
            "tags": [],
            "needs_background": "light"
          }
        }
      ]
    },
    {
      "cell_type": "markdown",
      "metadata": {
        "id": "XKZmXmBcq_8-"
      },
      "source": [
        "## Convolutional Networks with Dropout\n",
        "\n",
        "![alt text](https://camo.githubusercontent.com/ee6fa1073247cd2c3d241300caf110d7a7541bc5/68747470733a2f2f63646e2d696d616765732d312e6d656469756d2e636f6d2f6d61782f3830302f312a4972644a355067684439596f4f7956415137334d4a772e676966)\n",
        "\n",
        "Ref: https://github.com/mneha4/Training-Neural-Nets---Guidelines"
      ]
    },
    {
      "cell_type": "code",
      "metadata": {
        "id": "wu3cqeYQrDeN"
      },
      "source": [
        "model = models.Sequential()\n",
        "model.add(layers.Conv2D(32, (3, 3), activation='relu',\n",
        "input_shape=(150, 150, 3)))\n",
        "model.add(layers.MaxPooling2D((2, 2)))\n",
        "model.add(layers.Conv2D(64, (3, 3), activation='relu'))\n",
        "model.add(layers.MaxPooling2D((2, 2)))\n",
        "model.add(layers.Conv2D(128, (3, 3), activation='relu'))\n",
        "model.add(layers.MaxPooling2D((2, 2)))\n",
        "model.add(layers.Conv2D(128, (3, 3), activation='relu'))\n",
        "model.add(layers.MaxPooling2D((2, 2)))\n",
        "model.add(layers.Flatten())\n",
        "model.add(layers.Dropout(0.5))\n",
        "model.add(layers.Dense(512, activation='relu'))\n",
        "model.add(layers.Dense(1, activation='sigmoid'))\n",
        "\n",
        "model.compile(loss='binary_crossentropy',\n",
        "              optimizer=optimizers.RMSprop(lr=1e-4),\n",
        "              metrics=['acc'])"
      ],
      "execution_count": null,
      "outputs": []
    },
    {
      "cell_type": "code",
      "metadata": {
        "id": "QSeLpvY0rH7F",
        "colab": {
          "base_uri": "https://localhost:8080/"
        },
        "outputId": "87a25bab-146e-4994-f011-c88db0a4b7b2"
      },
      "source": [
        "\n",
        "train_datagen = ImageDataGenerator(rescale=1./255,\n",
        "                                   rotation_range=40,\n",
        "                                   width_shift_range=0.2,\n",
        "                                   height_shift_range=0.2,\n",
        "                                   shear_range=0.2,\n",
        "                                   zoom_range=0.2,\n",
        "                                   horizontal_flip=True,)\n",
        "\n",
        "test_datagen = ImageDataGenerator(rescale=1./255)\n",
        "\n",
        "train_generator = train_datagen.flow_from_directory(train_dir,\n",
        "                                                    target_size=(150, 150),\n",
        "                                                    batch_size=32,\n",
        "                                                    class_mode='binary')\n",
        "\n",
        "validation_generator = test_datagen.flow_from_directory(validation_dir,\n",
        "                                                        target_size=(150, 150),\n",
        "                                                        batch_size=32,\n",
        "                                                        class_mode='binary')\n",
        "\n",
        "history = model.fit_generator(train_generator,\n",
        "                              steps_per_epoch=100,\n",
        "                              epochs=20,\n",
        "                              validation_data=validation_generator,\n",
        "                              validation_steps=50)"
      ],
      "execution_count": null,
      "outputs": [
        {
          "output_type": "stream",
          "text": [
            "Found 2000 images belonging to 2 classes.\n",
            "Found 1000 images belonging to 2 classes.\n"
          ],
          "name": "stdout"
        },
        {
          "output_type": "stream",
          "text": [
            "/usr/local/lib/python3.7/dist-packages/tensorflow/python/keras/engine/training.py:1844: UserWarning: `Model.fit_generator` is deprecated and will be removed in a future version. Please use `Model.fit`, which supports generators.\n",
            "  warnings.warn('`Model.fit_generator` is deprecated and '\n"
          ],
          "name": "stderr"
        },
        {
          "output_type": "stream",
          "text": [
            "Epoch 1/20\n",
            " 63/100 [=================>............] - ETA: 8s - loss: 0.6992 - acc: 0.5090WARNING:tensorflow:Your input ran out of data; interrupting training. Make sure that your dataset or generator can generate at least `steps_per_epoch * epochs` batches (in this case, 2000 batches). You may need to use the repeat() function when building your dataset.\n",
            "WARNING:tensorflow:Your input ran out of data; interrupting training. Make sure that your dataset or generator can generate at least `steps_per_epoch * epochs` batches (in this case, 50 batches). You may need to use the repeat() function when building your dataset.\n",
            "100/100 [==============================] - 18s 169ms/step - loss: 0.6989 - acc: 0.5101 - val_loss: 0.6893 - val_acc: 0.5500\n"
          ],
          "name": "stdout"
        }
      ]
    },
    {
      "cell_type": "markdown",
      "metadata": {
        "id": "BRdU5yrkUF_b"
      },
      "source": [
        "# Task 2:\n",
        "\n",
        "We have used Dropout to enhance the performance of the CNN model. Can you please use whatever you like to further enhance the performance from `val_acc: 0.7506`? "
      ]
    },
    {
      "cell_type": "code",
      "metadata": {
        "id": "5xRff0Ec0NLm",
        "colab": {
          "base_uri": "https://localhost:8080/"
        },
        "outputId": "c478f1cb-e3fa-4b84-c2c0-893064458218"
      },
      "source": [
        "from keras import layers\n",
        "from keras import models\n",
        "\n",
        "model = models.Sequential()\n",
        "model.add(layers.Conv2D(32, (3, 3), activation='relu', input_shape=(150, 150, 3)))\n",
        "model.add(layers.MaxPooling2D((2, 2)))\n",
        "model.add(layers.Conv2D(64, (3, 3), activation='relu'))\n",
        "model.add(layers.MaxPooling2D((2, 2)))\n",
        "model.add(layers.Conv2D(128, (3, 3), activation='relu'))\n",
        "model.add(layers.MaxPooling2D((2, 2)))\n",
        "model.add(layers.Conv2D(128, (3, 3), activation='relu'))\n",
        "model.add(layers.MaxPooling2D((2, 2)))\n",
        "model.add(layers.Flatten())\n",
        "model.add(layers.Dense(512, activation='relu'))\n",
        "model.add(layers.Dense(1, activation='sigmoid'))\n",
        "model.summary()"
      ],
      "execution_count": null,
      "outputs": [
        {
          "output_type": "stream",
          "text": [
            "Model: \"sequential_5\"\n",
            "_________________________________________________________________\n",
            "Layer (type)                 Output Shape              Param #   \n",
            "=================================================================\n",
            "conv2d_20 (Conv2D)           (None, 148, 148, 32)      896       \n",
            "_________________________________________________________________\n",
            "max_pooling2d_20 (MaxPooling (None, 74, 74, 32)        0         \n",
            "_________________________________________________________________\n",
            "conv2d_21 (Conv2D)           (None, 72, 72, 64)        18496     \n",
            "_________________________________________________________________\n",
            "max_pooling2d_21 (MaxPooling (None, 36, 36, 64)        0         \n",
            "_________________________________________________________________\n",
            "conv2d_22 (Conv2D)           (None, 34, 34, 128)       73856     \n",
            "_________________________________________________________________\n",
            "max_pooling2d_22 (MaxPooling (None, 17, 17, 128)       0         \n",
            "_________________________________________________________________\n",
            "conv2d_23 (Conv2D)           (None, 15, 15, 128)       147584    \n",
            "_________________________________________________________________\n",
            "max_pooling2d_23 (MaxPooling (None, 7, 7, 128)         0         \n",
            "_________________________________________________________________\n",
            "flatten_5 (Flatten)          (None, 6272)              0         \n",
            "_________________________________________________________________\n",
            "dense_10 (Dense)             (None, 512)               3211776   \n",
            "_________________________________________________________________\n",
            "dense_11 (Dense)             (None, 1)                 513       \n",
            "=================================================================\n",
            "Total params: 3,453,121\n",
            "Trainable params: 3,453,121\n",
            "Non-trainable params: 0\n",
            "_________________________________________________________________\n"
          ],
          "name": "stdout"
        }
      ]
    },
    {
      "cell_type": "code",
      "metadata": {
        "id": "tk1-kt1oRkGB"
      },
      "source": [
        "from keras import optimizers\n",
        "#from keras.optimizers import SGD\n",
        "#sgd = SGD(lr=0.1, momentum=0.9)\n",
        "#optimizers.RMSprop(lr=1e-4)\n",
        "model.compile(loss='binary_crossentropy', \n",
        "              optimizer='adam',\n",
        "              metrics=['acc'])"
      ],
      "execution_count": null,
      "outputs": []
    },
    {
      "cell_type": "code",
      "metadata": {
        "colab": {
          "base_uri": "https://localhost:8080/"
        },
        "id": "j7xn4_YsSUEY",
        "outputId": "4eff2394-1d04-403b-a405-62da092a605a"
      },
      "source": [
        "from keras.preprocessing.image import ImageDataGenerator\n",
        "\n",
        "train_datagen = ImageDataGenerator(rescale=1./255)\n",
        "test_datagen = ImageDataGenerator(rescale=1./255)\n",
        "\n",
        "train_generator = train_datagen.flow_from_directory(train_dir,\n",
        "                                                    target_size=(150, 150), \n",
        "                                                    batch_size=20,\n",
        "                                                    class_mode='binary')\n",
        "\n",
        "validation_generator = test_datagen.flow_from_directory(validation_dir,\n",
        "                                                        target_size=(150, 150),\n",
        "                                                        batch_size=20,\n",
        "                                                        class_mode='binary')"
      ],
      "execution_count": null,
      "outputs": [
        {
          "output_type": "stream",
          "text": [
            "Found 2000 images belonging to 2 classes.\n",
            "Found 1000 images belonging to 2 classes.\n"
          ],
          "name": "stdout"
        }
      ]
    },
    {
      "cell_type": "code",
      "metadata": {
        "colab": {
          "base_uri": "https://localhost:8080/"
        },
        "id": "DyyYQPjaSeJW",
        "outputId": "b6ac5afb-a740-4599-b496-0d91140d98f9"
      },
      "source": [
        "history = model.fit_generator(train_generator,\n",
        "                              steps_per_epoch=100,\n",
        "                              epochs=50,\n",
        "                              validation_data=validation_generator,\n",
        "                              validation_steps=10)"
      ],
      "execution_count": null,
      "outputs": [
        {
          "output_type": "stream",
          "text": [
            "/usr/local/lib/python3.7/dist-packages/tensorflow/python/keras/engine/training.py:1844: UserWarning: `Model.fit_generator` is deprecated and will be removed in a future version. Please use `Model.fit`, which supports generators.\n",
            "  warnings.warn('`Model.fit_generator` is deprecated and '\n"
          ],
          "name": "stderr"
        },
        {
          "output_type": "stream",
          "text": [
            "Epoch 1/50\n",
            "100/100 [==============================] - 7s 67ms/step - loss: 0.8053 - acc: 0.5026 - val_loss: 0.6934 - val_acc: 0.4350\n",
            "Epoch 2/50\n",
            "100/100 [==============================] - 6s 63ms/step - loss: 0.6913 - acc: 0.5351 - val_loss: 0.6790 - val_acc: 0.5450\n",
            "Epoch 3/50\n",
            "100/100 [==============================] - 6s 64ms/step - loss: 0.6846 - acc: 0.5529 - val_loss: 0.6474 - val_acc: 0.6300\n",
            "Epoch 4/50\n",
            "100/100 [==============================] - 6s 63ms/step - loss: 0.6471 - acc: 0.6286 - val_loss: 0.6517 - val_acc: 0.6050\n",
            "Epoch 5/50\n",
            "100/100 [==============================] - 6s 64ms/step - loss: 0.6301 - acc: 0.6224 - val_loss: 0.6004 - val_acc: 0.6550\n",
            "Epoch 6/50\n",
            "100/100 [==============================] - 6s 64ms/step - loss: 0.5954 - acc: 0.6654 - val_loss: 0.5286 - val_acc: 0.7100\n",
            "Epoch 7/50\n",
            "100/100 [==============================] - 6s 64ms/step - loss: 0.5327 - acc: 0.7101 - val_loss: 0.6190 - val_acc: 0.6850\n",
            "Epoch 8/50\n",
            "100/100 [==============================] - 7s 66ms/step - loss: 0.4618 - acc: 0.7823 - val_loss: 0.6473 - val_acc: 0.7250\n",
            "Epoch 9/50\n",
            "100/100 [==============================] - 7s 66ms/step - loss: 0.3874 - acc: 0.8171 - val_loss: 0.6457 - val_acc: 0.7150\n",
            "Epoch 10/50\n",
            "100/100 [==============================] - 7s 73ms/step - loss: 0.3071 - acc: 0.8544 - val_loss: 0.6688 - val_acc: 0.6900\n",
            "Epoch 11/50\n",
            "100/100 [==============================] - 7s 69ms/step - loss: 0.2178 - acc: 0.9083 - val_loss: 0.9635 - val_acc: 0.7050\n",
            "Epoch 12/50\n",
            "100/100 [==============================] - 6s 65ms/step - loss: 0.1639 - acc: 0.9413 - val_loss: 0.8796 - val_acc: 0.7250\n",
            "Epoch 13/50\n",
            "100/100 [==============================] - 6s 64ms/step - loss: 0.1309 - acc: 0.9544 - val_loss: 1.3343 - val_acc: 0.6700\n",
            "Epoch 14/50\n",
            "100/100 [==============================] - 7s 65ms/step - loss: 0.0488 - acc: 0.9846 - val_loss: 1.1032 - val_acc: 0.7350\n",
            "Epoch 15/50\n",
            "100/100 [==============================] - 7s 66ms/step - loss: 0.0240 - acc: 0.9923 - val_loss: 1.1321 - val_acc: 0.7400\n",
            "Epoch 16/50\n",
            "100/100 [==============================] - 7s 65ms/step - loss: 0.0064 - acc: 0.9997 - val_loss: 1.6028 - val_acc: 0.7750\n",
            "Epoch 17/50\n",
            "100/100 [==============================] - 7s 66ms/step - loss: 0.0014 - acc: 1.0000 - val_loss: 1.7423 - val_acc: 0.7300\n",
            "Epoch 18/50\n",
            "100/100 [==============================] - 7s 66ms/step - loss: 3.8296e-04 - acc: 1.0000 - val_loss: 1.7891 - val_acc: 0.7350\n",
            "Epoch 19/50\n",
            "100/100 [==============================] - 6s 64ms/step - loss: 2.3563e-04 - acc: 1.0000 - val_loss: 2.2578 - val_acc: 0.7000\n",
            "Epoch 20/50\n",
            "100/100 [==============================] - 6s 65ms/step - loss: 1.9540e-04 - acc: 1.0000 - val_loss: 1.8267 - val_acc: 0.7500\n",
            "Epoch 21/50\n",
            "100/100 [==============================] - 7s 65ms/step - loss: 1.5942e-04 - acc: 1.0000 - val_loss: 2.3758 - val_acc: 0.6950\n",
            "Epoch 22/50\n",
            "100/100 [==============================] - 6s 64ms/step - loss: 1.3109e-04 - acc: 1.0000 - val_loss: 2.5452 - val_acc: 0.7100\n",
            "Epoch 23/50\n",
            "100/100 [==============================] - 6s 64ms/step - loss: 1.0468e-04 - acc: 1.0000 - val_loss: 2.5063 - val_acc: 0.7300\n",
            "Epoch 24/50\n",
            "100/100 [==============================] - 6s 64ms/step - loss: 9.0030e-05 - acc: 1.0000 - val_loss: 2.2372 - val_acc: 0.7450\n",
            "Epoch 25/50\n",
            "100/100 [==============================] - 6s 64ms/step - loss: 8.2070e-05 - acc: 1.0000 - val_loss: 2.3564 - val_acc: 0.7450\n",
            "Epoch 26/50\n",
            "100/100 [==============================] - 7s 65ms/step - loss: 7.5066e-05 - acc: 1.0000 - val_loss: 2.4481 - val_acc: 0.7300\n",
            "Epoch 27/50\n",
            "100/100 [==============================] - 6s 65ms/step - loss: 5.9724e-05 - acc: 1.0000 - val_loss: 2.6075 - val_acc: 0.7200\n",
            "Epoch 28/50\n",
            "100/100 [==============================] - 7s 67ms/step - loss: 5.3215e-05 - acc: 1.0000 - val_loss: 2.2543 - val_acc: 0.7150\n",
            "Epoch 29/50\n",
            "100/100 [==============================] - 7s 65ms/step - loss: 5.0077e-05 - acc: 1.0000 - val_loss: 2.0056 - val_acc: 0.7600\n",
            "Epoch 30/50\n",
            "100/100 [==============================] - 7s 67ms/step - loss: 4.0420e-05 - acc: 1.0000 - val_loss: 2.0237 - val_acc: 0.7500\n",
            "Epoch 31/50\n",
            "100/100 [==============================] - 7s 66ms/step - loss: 3.3168e-05 - acc: 1.0000 - val_loss: 2.1876 - val_acc: 0.7150\n",
            "Epoch 32/50\n",
            "100/100 [==============================] - 7s 65ms/step - loss: 3.7910e-05 - acc: 1.0000 - val_loss: 2.8934 - val_acc: 0.7250\n",
            "Epoch 33/50\n",
            "100/100 [==============================] - 6s 65ms/step - loss: 2.3575e-05 - acc: 1.0000 - val_loss: 3.0713 - val_acc: 0.7150\n",
            "Epoch 34/50\n",
            "100/100 [==============================] - 6s 64ms/step - loss: 2.7450e-05 - acc: 1.0000 - val_loss: 2.7012 - val_acc: 0.7200\n",
            "Epoch 35/50\n",
            "100/100 [==============================] - 7s 66ms/step - loss: 2.3493e-05 - acc: 1.0000 - val_loss: 2.6293 - val_acc: 0.7250\n",
            "Epoch 36/50\n",
            "100/100 [==============================] - 6s 65ms/step - loss: 2.1155e-05 - acc: 1.0000 - val_loss: 2.5575 - val_acc: 0.7450\n",
            "Epoch 37/50\n",
            "100/100 [==============================] - 6s 65ms/step - loss: 1.9386e-05 - acc: 1.0000 - val_loss: 3.1199 - val_acc: 0.6950\n",
            "Epoch 38/50\n",
            "100/100 [==============================] - 7s 65ms/step - loss: 1.7461e-05 - acc: 1.0000 - val_loss: 2.1296 - val_acc: 0.7750\n",
            "Epoch 39/50\n",
            "100/100 [==============================] - 6s 64ms/step - loss: 1.6681e-05 - acc: 1.0000 - val_loss: 2.4590 - val_acc: 0.7500\n",
            "Epoch 40/50\n",
            "100/100 [==============================] - 7s 65ms/step - loss: 1.4640e-05 - acc: 1.0000 - val_loss: 2.5365 - val_acc: 0.7300\n",
            "Epoch 41/50\n",
            "100/100 [==============================] - 6s 65ms/step - loss: 1.4758e-05 - acc: 1.0000 - val_loss: 2.3697 - val_acc: 0.7600\n",
            "Epoch 42/50\n",
            "100/100 [==============================] - 6s 65ms/step - loss: 1.3199e-05 - acc: 1.0000 - val_loss: 3.1688 - val_acc: 0.6850\n",
            "Epoch 43/50\n",
            "100/100 [==============================] - 6s 65ms/step - loss: 1.2897e-05 - acc: 1.0000 - val_loss: 2.8014 - val_acc: 0.7000\n",
            "Epoch 44/50\n",
            "100/100 [==============================] - 6s 64ms/step - loss: 1.0162e-05 - acc: 1.0000 - val_loss: 3.1600 - val_acc: 0.6950\n",
            "Epoch 45/50\n",
            "100/100 [==============================] - 6s 65ms/step - loss: 9.5445e-06 - acc: 1.0000 - val_loss: 3.2208 - val_acc: 0.7050\n",
            "Epoch 46/50\n",
            "100/100 [==============================] - 6s 64ms/step - loss: 9.3265e-06 - acc: 1.0000 - val_loss: 2.1989 - val_acc: 0.7400\n",
            "Epoch 47/50\n",
            "100/100 [==============================] - 6s 64ms/step - loss: 8.4189e-06 - acc: 1.0000 - val_loss: 2.2087 - val_acc: 0.7250\n",
            "Epoch 48/50\n",
            "100/100 [==============================] - 6s 64ms/step - loss: 8.1218e-06 - acc: 1.0000 - val_loss: 3.1600 - val_acc: 0.6650\n",
            "Epoch 49/50\n",
            "100/100 [==============================] - 6s 65ms/step - loss: 8.2341e-06 - acc: 1.0000 - val_loss: 2.7325 - val_acc: 0.7550\n",
            "Epoch 50/50\n",
            "100/100 [==============================] - 7s 66ms/step - loss: 6.5516e-06 - acc: 1.0000 - val_loss: 2.4097 - val_acc: 0.8100\n"
          ],
          "name": "stdout"
        }
      ]
    },
    {
      "cell_type": "code",
      "metadata": {
        "colab": {
          "base_uri": "https://localhost:8080/",
          "height": 545
        },
        "id": "U2fNMg0qSi22",
        "outputId": "941a3cb9-df4e-44a9-8bce-2643c6b63c26"
      },
      "source": [
        "model.save('cats_and_dogs_small_1.h5')\n",
        "\n",
        "import matplotlib.pyplot as plt\n",
        "\n",
        "acc = history.history['acc']\n",
        "val_acc = history.history['val_acc']\n",
        "loss = history.history['loss']\n",
        "val_loss = history.history['val_loss']\n",
        "\n",
        "epochs = range(1, len(acc) + 1)\n",
        "\n",
        "plt.plot(epochs, acc, 'bo', label='Training acc')\n",
        "plt.plot(epochs, val_acc, 'b', label='Validation acc')\n",
        "plt.title('Training and validation accuracy')\n",
        "plt.legend()\n",
        "\n",
        "plt.figure()\n",
        "\n",
        "plt.plot(epochs, loss, 'bo', label='Training loss')\n",
        "plt.plot(epochs, val_loss, 'b', label='Validation loss')\n",
        "plt.title('Training and validation loss')\n",
        "plt.legend()\n",
        "\n",
        "plt.show()"
      ],
      "execution_count": null,
      "outputs": [
        {
          "output_type": "display_data",
          "data": {
            "image/png": "[encoded data removed]",
            "text/plain": [
              "<Figure size 432x288 with 1 Axes>"
            ]
          },
          "metadata": {
            "tags": [],
            "needs_background": "light"
          }
        },
        {
          "output_type": "display_data",
          "data": {
            "image/png": "[encoded data removed]",
            "text/plain": [
              "<Figure size 432x288 with 1 Axes>"
            ]
          },
          "metadata": {
            "tags": [],
            "needs_background": "light"
          }
        }
      ]
    }
  ]
}