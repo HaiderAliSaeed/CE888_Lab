{
 "cells": [
  {
   "cell_type": "code",
   "execution_count": 1,
   "metadata": {
    "colab": {
     "base_uri": "https://localhost:8080/"
    },
    "id": "FluT1M9QvcvV",
    "outputId": "ca5dbea4-bb89-45e6-e161-000b9f3f23b4",
    "scrolled": false
   },
   "outputs": [
    {
     "name": "stderr",
     "output_type": "stream",
     "text": [
      "fatal: destination path 'COVID-CT' already exists and is not an empty directory.\n"
     ]
    }
   ],
   "source": [
    "!git clone https://github.com/UCSD-AI4H/COVID-CT.git"
   ]
  },
  {
   "cell_type": "code",
   "execution_count": 2,
   "metadata": {
    "id": "hbh1Nm2mv_cF",
    "scrolled": true
   },
   "outputs": [
    {
     "name": "stderr",
     "output_type": "stream",
     "text": [
      "'unzip' is not recognized as an internal or external command,\n",
      "operable program or batch file.\n",
      "'unzip' is not recognized as an internal or external command,\n",
      "operable program or batch file.\n"
     ]
    }
   ],
   "source": [
    "## unzip archives  q - quite, n - don't overwrite\n",
    "!unzip -q -n '/content/COVID-CT/Images-processed/CT_COVID.zip'\n",
    "!unzip -q -n '/content/COVID-CT/Images-processed/CT_NonCOVID.zip'"
   ]
  },
  {
   "cell_type": "code",
   "execution_count": 8,
   "metadata": {
    "colab": {
     "base_uri": "https://localhost:8080/"
    },
    "id": "7gV196flwWAH",
    "outputId": "7bb5abda-c84f-499c-822b-7a64dd7fc5df"
   },
   "outputs": [
    {
     "ename": "FileNotFoundError",
     "evalue": "[WinError 3] The system cannot find the path specified: '/content/CT_COVID/'",
     "output_type": "error",
     "traceback": [
      "\u001b[1;31m---------------------------------------------------------------------------\u001b[0m",
      "\u001b[1;31mFileNotFoundError\u001b[0m                         Traceback (most recent call last)",
      "\u001b[1;32m<ipython-input-8-6ed93b6e9ee9>\u001b[0m in \u001b[0;36m<module>\u001b[1;34m\u001b[0m\n\u001b[0;32m      1\u001b[0m \u001b[1;32mimport\u001b[0m \u001b[0mos\u001b[0m\u001b[1;33m\u001b[0m\u001b[1;33m\u001b[0m\u001b[0m\n\u001b[0;32m      2\u001b[0m \u001b[0mpath\u001b[0m\u001b[1;33m=\u001b[0m\u001b[1;34m'/content/CT_COVID/'\u001b[0m\u001b[1;33m\u001b[0m\u001b[1;33m\u001b[0m\u001b[0m\n\u001b[1;32m----> 3\u001b[1;33m \u001b[1;32mfor\u001b[0m \u001b[0mcount\u001b[0m\u001b[1;33m,\u001b[0m \u001b[0mfilename\u001b[0m \u001b[1;32min\u001b[0m \u001b[0menumerate\u001b[0m\u001b[1;33m(\u001b[0m\u001b[0mos\u001b[0m\u001b[1;33m.\u001b[0m\u001b[0mlistdir\u001b[0m\u001b[1;33m(\u001b[0m\u001b[0mpath\u001b[0m\u001b[1;33m)\u001b[0m\u001b[1;33m)\u001b[0m\u001b[1;33m:\u001b[0m\u001b[1;33m\u001b[0m\u001b[1;33m\u001b[0m\u001b[0m\n\u001b[0m\u001b[0;32m      4\u001b[0m     \u001b[0mdst\u001b[0m \u001b[1;33m=\u001b[0m\u001b[1;34m\"covid-\"\u001b[0m \u001b[1;33m+\u001b[0m \u001b[0mstr\u001b[0m\u001b[1;33m(\u001b[0m\u001b[0mcount\u001b[0m\u001b[1;33m)\u001b[0m \u001b[1;33m+\u001b[0m \u001b[1;34m\".png\"\u001b[0m\u001b[1;33m\u001b[0m\u001b[1;33m\u001b[0m\u001b[0m\n\u001b[0;32m      5\u001b[0m     \u001b[0msrc\u001b[0m \u001b[1;33m=\u001b[0m\u001b[0mpath\u001b[0m\u001b[1;33m+\u001b[0m \u001b[0mfilename\u001b[0m\u001b[1;33m\u001b[0m\u001b[1;33m\u001b[0m\u001b[0m\n",
      "\u001b[1;31mFileNotFoundError\u001b[0m: [WinError 3] The system cannot find the path specified: '/content/CT_COVID/'"
     ]
    }
   ],
   "source": [
    "import os\n",
    "path='/content/CT_COVID/'\n",
    "for count, filename in enumerate(os.listdir(path)): \n",
    "    dst =\"covid-\" + str(count) + \".png\"\n",
    "    src =path+ filename \n",
    "    dst =path+ dst \n",
    "        \n",
    "    # rename() function will \n",
    "    # rename all the files \n",
    "    os.rename(src, dst)\n",
    "print(\"Covid Positive cases: \", count)\n",
    "\n",
    "path='/content/CT_NonCOVID/'\n",
    "for count, filename in enumerate(os.listdir(path)): \n",
    "    dst =\"noncovid-\" + str(count) + \".png\"\n",
    "    src =path+ filename \n",
    "    dst =path+ dst \n",
    "        \n",
    "    # rename() function will \n",
    "    # rename all the files \n",
    "    os.rename(src, dst)\n",
    "\n",
    "print(\"Covid Negative cases: \", count)"
   ]
  },
  {
   "cell_type": "code",
   "execution_count": null,
   "metadata": {
    "id": "U4L_jE7owi9i"
   },
   "outputs": [],
   "source": [
    "base_dir = '/content/covid19_CT'\n",
    "if not os.path.exists(base_dir): os.mkdir(base_dir)"
   ]
  },
  {
   "cell_type": "code",
   "execution_count": null,
   "metadata": {
    "id": "IdoerskvwoKg"
   },
   "outputs": [],
   "source": [
    "train_dir = os.path.join(base_dir, 'train')\n",
    "if not os.path.exists(train_dir): os.mkdir(train_dir)\n",
    "\n",
    "validation_dir = os.path.join(base_dir, 'validation')\n",
    "if not os.path.exists(validation_dir):os.mkdir(validation_dir)\n",
    "\n",
    "test_dir = os.path.join(base_dir, 'test')\n",
    "if not os.path.exists(test_dir):os.mkdir(test_dir)"
   ]
  },
  {
   "cell_type": "code",
   "execution_count": null,
   "metadata": {
    "id": "BB4PRPsuwsbr"
   },
   "outputs": [],
   "source": [
    "original_dataset_dir_covid = '/content/CT_COVID/'\n",
    "original_dataset_dir_non_covid = '/content/CT_NonCOVID/'\n",
    "\n",
    "import shutil\n",
    "fnames = ['covid-{}.png'.format(i) for i in range(250)]\n",
    "for fname in fnames:\n",
    "    src = os.path.join(original_dataset_dir_covid, fname)\n",
    "    dst = os.path.join(train_dir, fname)\n",
    "    #print(src,dst)\n",
    "    shutil.copyfile(src, dst)\n",
    "    \n",
    "fnames = ['covid-{}.png'.format(i) for i in range(250, 300)]\n",
    "for fname in fnames:\n",
    "    src = os.path.join(original_dataset_dir_covid, fname)\n",
    "    dst = os.path.join(validation_dir, fname)\n",
    "    shutil.copyfile(src, dst)\n",
    "\n",
    "fnames = ['covid-{}.png'.format(i) for i in range(300, 348)]\n",
    "for fname in fnames:\n",
    "    src = os.path.join(original_dataset_dir_covid, fname)\n",
    "    dst = os.path.join(test_dir, fname)\n",
    "    shutil.copyfile(src, dst)"
   ]
  },
  {
   "cell_type": "code",
   "execution_count": null,
   "metadata": {
    "id": "Re54BmoRwvzZ"
   },
   "outputs": [],
   "source": [
    "fnames = ['noncovid-{}.png'.format(i) for i in range(250)]\n",
    "for fname in fnames:\n",
    "    src = os.path.join(original_dataset_dir_non_covid, fname)\n",
    "    dst = os.path.join(train_dir, fname)\n",
    "    shutil.copyfile(src, dst)\n",
    "\n",
    "fnames = ['noncovid-{}.png'.format(i) for i in range(250, 300)]\n",
    "for fname in fnames:\n",
    "    src = os.path.join(original_dataset_dir_non_covid, fname)\n",
    "    dst = os.path.join(validation_dir, fname)\n",
    "    shutil.copyfile(src, dst)\n",
    "\n",
    "fnames = ['noncovid-{}.png'.format(i) for i in range(300, 348)]\n",
    "for fname in fnames:\n",
    "    src = os.path.join(original_dataset_dir_non_covid, fname)\n",
    "    dst = os.path.join(test_dir, fname)\n",
    "    shutil.copyfile(src, dst)"
   ]
  },
  {
   "cell_type": "code",
   "execution_count": null,
   "metadata": {
    "id": "ioRUSh9nwyiH"
   },
   "outputs": [],
   "source": [
    "import cv2\n",
    "import numpy as np\n",
    "from random import shuffle\n",
    "\n",
    "IMG_SIZE = 224\n",
    "LR = 1e-4"
   ]
  },
  {
   "cell_type": "code",
   "execution_count": null,
   "metadata": {
    "id": "NeBE7Yidw4KN"
   },
   "outputs": [],
   "source": [
    "def label_img(img):\n",
    "    word_label = img.split('-')[0]\n",
    "    if word_label == 'covid': return 1\n",
    "    elif word_label == 'noncovid': return 0"
   ]
  },
  {
   "cell_type": "code",
   "execution_count": null,
   "metadata": {
    "id": "bk_1wMl5xLUa"
   },
   "outputs": [],
   "source": [
    "\n",
    "def createDataSplitSet(datapath):\n",
    "    X=[]\n",
    "    y=[]\n",
    "\n",
    "    for img in os.listdir(datapath):\n",
    "        label = label_img(img)\n",
    "        path = os.path.join(datapath, img)\n",
    "        image = cv2.resize(cv2.imread(path), (IMG_SIZE, IMG_SIZE))\n",
    "        image = cv2.normalize(image, None, alpha=0, beta=1, norm_type=cv2.NORM_MINMAX, dtype=cv2.CV_32F)\n",
    "\n",
    "        X.append(np.array(image))\n",
    "        y.append(label)\n",
    "\n",
    "    return np.array(X), np.array(y)"
   ]
  },
  {
   "cell_type": "code",
   "execution_count": null,
   "metadata": {
    "colab": {
     "base_uri": "https://localhost:8080/"
    },
    "id": "BJD_MJhRxOQX",
    "outputId": "e1823887-50d3-4a42-ff9b-a9be9e30ac3b"
   },
   "outputs": [],
   "source": [
    "train_X, train_y = createDataSplitSet(train_dir)\n",
    "val_X, val_y = createDataSplitSet(validation_dir)\n",
    "test_X, test_y = createDataSplitSet(test_dir)\n",
    "print(train_X.shape)\n",
    "print(val_X.shape)\n",
    "print(test_X.shape)"
   ]
  },
  {
   "cell_type": "code",
   "execution_count": null,
   "metadata": {
    "id": "653O6e9qxgAW"
   },
   "outputs": [],
   "source": [
    "## VGG 16\n",
    "\n",
    "from tensorflow.keras.applications import VGG16\n",
    "from tensorflow.keras.layers import Dense, Input, Flatten\n",
    "from tensorflow.keras import Model\n",
    "\n",
    "img_input = Input(shape=(IMG_SIZE, IMG_SIZE, 3))"
   ]
  },
  {
   "cell_type": "code",
   "execution_count": null,
   "metadata": {
    "colab": {
     "base_uri": "https://localhost:8080/"
    },
    "id": "PQhDbLTCxmub",
    "outputId": "f8bdfafa-21f6-43bf-f5d4-4980b67680e9"
   },
   "outputs": [],
   "source": [
    "model = VGG19(\n",
    "    include_top=True,\n",
    "    weights=\"imagenet\",\n",
    "    input_tensor=img_input,\n",
    "    input_shape=None,\n",
    "    pooling=None,\n",
    "    classes=1000,\n",
    "    classifier_activation=\"softmax\",\n",
    ")\n",
    "model.summary()"
   ]
  },
  {
   "cell_type": "code",
   "execution_count": null,
   "metadata": {
    "colab": {
     "base_uri": "https://localhost:8080/"
    },
    "id": "dUdBz5t_yLJj",
    "outputId": "c3f643e4-f828-48b7-a128-a94504b530ff"
   },
   "outputs": [],
   "source": [
    "last_layer = model.get_layer('block5_pool').output\n",
    "x= Flatten(name='flatten')(last_layer)\n",
    "x = Dense(128, activation='relu', name='fc1')(x)\n",
    "x = Dense(64, activation='relu', name='fc2')(x)\n",
    "out = Dense(1, activation='sigmoid', name='output')(x)  ## 2 classes\n",
    "model = Model(img_input, out)\n",
    "\n",
    "for layer in model.layers[:-3]:\n",
    "\tlayer.trainable = False\n",
    "\n",
    "model.summary()"
   ]
  },
  {
   "cell_type": "code",
   "execution_count": null,
   "metadata": {
    "id": "hudg_0k8ymjB"
   },
   "outputs": [],
   "source": [
    "import tensorflow as tf\n",
    "model.compile(loss='binary_crossentropy',\n",
    "              optimizer=tf.keras.optimizers.SGD(learning_rate=0.01, momentum= 0.1),\n",
    "              metrics=['acc'])"
   ]
  },
  {
   "cell_type": "code",
   "execution_count": null,
   "metadata": {
    "id": "elu-yuE4yqZi"
   },
   "outputs": [],
   "source": [
    "from tensorflow.keras.callbacks import EarlyStopping, ModelCheckpoint\n",
    "my_callbacks = [\n",
    "    EarlyStopping(monitor=\"val_loss\", patience=10, restore_best_weights=True),\n",
    "    ModelCheckpoint(filepath='vgg16_model.h5', save_best_only=True),\n",
    "]"
   ]
  },
  {
   "cell_type": "code",
   "execution_count": null,
   "metadata": {
    "colab": {
     "base_uri": "https://localhost:8080/"
    },
    "id": "BCmF6hBeyvW7",
    "outputId": "50283777-872e-449f-a0a3-54e7b61faa41"
   },
   "outputs": [],
   "source": [
    "history = model.fit(train_X, train_y,\n",
    "                              batch_size=10,\n",
    "                              epochs=100, \n",
    "                              validation_data=(val_X, val_y),\n",
    "                              callbacks=my_callbacks)"
   ]
  },
  {
   "cell_type": "code",
   "execution_count": null,
   "metadata": {
    "colab": {
     "base_uri": "https://localhost:8080/",
     "height": 545
    },
    "id": "QpwXFpfMzaSA",
    "outputId": "3cefcb32-332b-47f6-d797-f9144c899ad3"
   },
   "outputs": [],
   "source": [
    "import matplotlib.pyplot as plt\n",
    "\n",
    "acc = history.history['acc']\n",
    "val_acc = history.history['val_acc']\n",
    "loss = history.history['loss']\n",
    "val_loss = history.history['val_loss']\n",
    "\n",
    "epochs = range(1, len(acc) + 1)\n",
    "\n",
    "plt.plot(epochs, acc, 'bo', label='Training acc')\n",
    "plt.plot(epochs, val_acc, 'b', label='Validation acc')\n",
    "plt.title('Training and validation accuracy')\n",
    "plt.legend()\n",
    "\n",
    "plt.figure()\n",
    "\n",
    "plt.plot(epochs, loss, 'bo', label='Training loss')\n",
    "plt.plot(epochs, val_loss, 'b', label='Validation loss')\n",
    "plt.title('Training and validation loss')\n",
    "plt.legend()\n",
    "\n",
    "plt.show()"
   ]
  },
  {
   "cell_type": "code",
   "execution_count": null,
   "metadata": {
    "colab": {
     "base_uri": "https://localhost:8080/"
    },
    "id": "x7p5zN9yzewh",
    "outputId": "4f464967-c895-480b-f83e-2a71f3034656"
   },
   "outputs": [],
   "source": [
    "\n",
    "from sklearn.metrics import accuracy_score\n",
    "\n",
    "## Test Accuracy\n",
    "predictions = model.predict(test_X)\n",
    "ypred = predictions > 0.5\n",
    "test_acc = accuracy_score(test_y, ypred)\n",
    "\n",
    "from sklearn.metrics import precision_recall_fscore_support, roc_auc_score\n",
    "\n",
    "precision, recall, f1score, _ = precision_recall_fscore_support(test_y, ypred, average='binary')\n",
    "\n",
    "auc = roc_auc_score(test_y, ypred)\n",
    "\n",
    "print(\"Train Accuracy:\\t\", acc[-1])\n",
    "print(\"Val Accuracy:\\t\", val_acc[-1])\n",
    "print(\"Test Accuracy:\\t\", test_acc)\n",
    "print(\"Precision:\\t\", precision)\n",
    "print(\"Recall:\\t\\t\", recall)\n",
    "print(\"F1 Score:\\t\", f1score)\n",
    "print(\"AUC:\\t\\t\", auc)\n"
   ]
  }
 ],
 "metadata": {
  "accelerator": "GPU",
  "colab": {
   "collapsed_sections": [],
   "name": "Best_COVID19_VGG19.ipynb",
   "provenance": []
  },
  "kernelspec": {
   "display_name": "Python 3",
   "language": "python",
   "name": "python3"
  },
  "language_info": {
   "codemirror_mode": {
    "name": "ipython",
    "version": 3
   },
   "file_extension": ".py",
   "mimetype": "text/x-python",
   "name": "python",
   "nbconvert_exporter": "python",
   "pygments_lexer": "ipython3",
   "version": "3.8.3"
  }
 },
 "nbformat": 4,
 "nbformat_minor": 1
}
